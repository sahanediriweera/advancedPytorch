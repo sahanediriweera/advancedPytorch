{
  "nbformat": 4,
  "nbformat_minor": 0,
  "metadata": {
    "colab": {
      "provenance": [],
      "authorship_tag": "ABX9TyOPgFhIXZK40KkfXOay0d4n",
      "include_colab_link": true
    },
    "kernelspec": {
      "name": "python3",
      "display_name": "Python 3"
    },
    "language_info": {
      "name": "python"
    }
  },
  "cells": [
    {
      "cell_type": "markdown",
      "metadata": {
        "id": "view-in-github",
        "colab_type": "text"
      },
      "source": [
        "<a href=\"https://colab.research.google.com/github/sahanediriweera/advancedPytorch/blob/main/Pytorch_Advanced_02.ipynb\" target=\"_parent\"><img src=\"https://colab.research.google.com/assets/colab-badge.svg\" alt=\"Open In Colab\"/></a>"
      ]
    },
    {
      "cell_type": "code",
      "execution_count": 1,
      "metadata": {
        "colab": {
          "base_uri": "https://localhost:8080/"
        },
        "id": "xjgxxRmocmE6",
        "outputId": "7e30b609-a71f-4bfc-df8b-eef8e5941ccf"
      },
      "outputs": [
        {
          "output_type": "execute_result",
          "data": {
            "text/plain": [
              "(tensor([[0.0000],\n",
              "         [0.0200],\n",
              "         [0.0400],\n",
              "         [0.0600],\n",
              "         [0.0800],\n",
              "         [0.1000],\n",
              "         [0.1200],\n",
              "         [0.1400],\n",
              "         [0.1600],\n",
              "         [0.1800],\n",
              "         [0.2000],\n",
              "         [0.2200],\n",
              "         [0.2400],\n",
              "         [0.2600],\n",
              "         [0.2800],\n",
              "         [0.3000],\n",
              "         [0.3200],\n",
              "         [0.3400],\n",
              "         [0.3600],\n",
              "         [0.3800],\n",
              "         [0.4000],\n",
              "         [0.4200],\n",
              "         [0.4400],\n",
              "         [0.4600],\n",
              "         [0.4800],\n",
              "         [0.5000],\n",
              "         [0.5200],\n",
              "         [0.5400],\n",
              "         [0.5600],\n",
              "         [0.5800],\n",
              "         [0.6000],\n",
              "         [0.6200],\n",
              "         [0.6400],\n",
              "         [0.6600],\n",
              "         [0.6800],\n",
              "         [0.7000],\n",
              "         [0.7200],\n",
              "         [0.7400],\n",
              "         [0.7600],\n",
              "         [0.7800],\n",
              "         [0.8000],\n",
              "         [0.8200],\n",
              "         [0.8400],\n",
              "         [0.8600],\n",
              "         [0.8800],\n",
              "         [0.9000],\n",
              "         [0.9200],\n",
              "         [0.9400],\n",
              "         [0.9600],\n",
              "         [0.9800]]), tensor([[0.3000],\n",
              "         [0.3140],\n",
              "         [0.3280],\n",
              "         [0.3420],\n",
              "         [0.3560],\n",
              "         [0.3700],\n",
              "         [0.3840],\n",
              "         [0.3980],\n",
              "         [0.4120],\n",
              "         [0.4260],\n",
              "         [0.4400],\n",
              "         [0.4540],\n",
              "         [0.4680],\n",
              "         [0.4820],\n",
              "         [0.4960],\n",
              "         [0.5100],\n",
              "         [0.5240],\n",
              "         [0.5380],\n",
              "         [0.5520],\n",
              "         [0.5660],\n",
              "         [0.5800],\n",
              "         [0.5940],\n",
              "         [0.6080],\n",
              "         [0.6220],\n",
              "         [0.6360],\n",
              "         [0.6500],\n",
              "         [0.6640],\n",
              "         [0.6780],\n",
              "         [0.6920],\n",
              "         [0.7060],\n",
              "         [0.7200],\n",
              "         [0.7340],\n",
              "         [0.7480],\n",
              "         [0.7620],\n",
              "         [0.7760],\n",
              "         [0.7900],\n",
              "         [0.8040],\n",
              "         [0.8180],\n",
              "         [0.8320],\n",
              "         [0.8460],\n",
              "         [0.8600],\n",
              "         [0.8740],\n",
              "         [0.8880],\n",
              "         [0.9020],\n",
              "         [0.9160],\n",
              "         [0.9300],\n",
              "         [0.9440],\n",
              "         [0.9580],\n",
              "         [0.9720],\n",
              "         [0.9860]]))"
            ]
          },
          "metadata": {},
          "execution_count": 1
        }
      ],
      "source": [
        "import torch\n",
        "import matplotlib.pyplot as plt\n",
        "\n",
        "\n",
        "weight = 0.7\n",
        "bias = 0.3\n",
        "\n",
        "start = 0\n",
        "end = 1\n",
        "step = 0.02\n",
        "\n",
        "X = torch.arange(start,end,step).unsqueeze(dim = 1)\n",
        "y = weight*X + bias\n",
        "\n",
        "X,y"
      ]
    },
    {
      "cell_type": "code",
      "source": [
        "train_split = int(0.8*len(X))\n",
        "\n",
        "X_train,X_test = X[:train_split],X[train_split:]\n",
        "y_train,y_test = y[:train_split],y[train_split:]\n",
        "\n",
        "\n",
        "len(X_train),len(X_test),len(y_train),len(y_test)"
      ],
      "metadata": {
        "colab": {
          "base_uri": "https://localhost:8080/"
        },
        "id": "2acdCAUse-gT",
        "outputId": "25bf344a-0c37-48b5-c29c-d3d53446f398"
      },
      "execution_count": 2,
      "outputs": [
        {
          "output_type": "execute_result",
          "data": {
            "text/plain": [
              "(40, 10, 40, 10)"
            ]
          },
          "metadata": {},
          "execution_count": 2
        }
      ]
    },
    {
      "cell_type": "code",
      "source": [
        "# def plot_prediction(train_data = X_train,train_label=y_train,test_data = X_test,test_label = y_test,predictions = None):\n",
        "#   plt.figure(figsize = (10,7))\n",
        "#   plt.scatter(train_data,train_label,c = 'b', s = 4, label = \"Training data\")\n",
        "#   plt.scatter(test_data,test_label, c = 'g', s = 4, label = \"Testing data\")\n",
        "#   if predictions is not None:\n",
        "#     plt.scatter(test_data,predictions, c = 'r', s = 4 ,label = \"Predictions\")\n",
        "  \n",
        "#   plt.legend(prop = {\"size\": 14});\n",
        "\n",
        "\n",
        "def plot_predictions(train_data=X_train, \n",
        "                     train_labels=y_train, \n",
        "                     test_data=X_test, \n",
        "                     test_labels=y_test, \n",
        "                     predictions=None):\n",
        "  \"\"\"\n",
        "  Plots training data, test data and compares predictions.\n",
        "  \"\"\"\n",
        "  plt.figure(figsize=(10, 7))\n",
        "\n",
        "  # Plot training data in blue\n",
        "  plt.scatter(train_data, train_labels, c=\"b\", s=4, label=\"Training data\")\n",
        "  \n",
        "  # Plot test data in green\n",
        "  plt.scatter(test_data, test_labels, c=\"g\", s=4, label=\"Testing data\")\n",
        "\n",
        "  if predictions is not None:\n",
        "    # Plot the predictions in red (predictions were made on the test data)\n",
        "    plt.scatter(test_data, predictions, c=\"r\", s=4, label=\"Predictions\")\n",
        "\n",
        "  # Show the legend\n",
        "  plt.legend(prop={\"size\": 14});"
      ],
      "metadata": {
        "id": "h2h3Zck2f3UK"
      },
      "execution_count": 3,
      "outputs": []
    },
    {
      "cell_type": "code",
      "source": [
        "plot_predictions()"
      ],
      "metadata": {
        "colab": {
          "base_uri": "https://localhost:8080/",
          "height": 428
        },
        "id": "PKlknGf3hUOp",
        "outputId": "04edc08d-5eeb-490e-dfeb-507456ba2b01"
      },
      "execution_count": 5,
      "outputs": [
        {
          "output_type": "display_data",
          "data": {
            "text/plain": [
              "<Figure size 720x504 with 1 Axes>"
            ],
            "image/png": "[encoded data removed]"
          },
          "metadata": {
            "needs_background": "light"
          }
        }
      ]
    },
    {
      "cell_type": "code",
      "source": [
        "# class LinearRegressionModel(torch.nn.Module):\n",
        "#   def __init__(self):\n",
        "#     super().__init__()\n",
        "#     self.weights = torch.nn.Parameter(torch.randn(1,dtype = torch.float), requires_grad = True)\n",
        "#     self.bias = torch.nn.Parameter(torch.randn(1,dtype = torch.float),requires_grad = True)\n",
        "\n",
        "#   def forward(self, x:torch.Tensor):\n",
        "#     return self.weights, self.bias\n",
        "\n",
        "\n",
        "# Create a Linear Regression model class\n",
        "from torch import nn \n",
        "\n",
        "class LinearRegressionModel(nn.Module): # <- almost everything in PyTorch is a nn.Module (think of this as neural network lego blocks)\n",
        "    def __init__(self):\n",
        "        super().__init__() \n",
        "        self.weights = nn.Parameter(torch.randn(1, # <- start with random weights (this will get adjusted as the model learns)\n",
        "                                                dtype=torch.float), # <- PyTorch loves float32 by default\n",
        "                                   requires_grad=True) # <- can we update this value with gradient descent?)\n",
        "\n",
        "        self.bias = nn.Parameter(torch.randn(1, # <- start with random bias (this will get adjusted as the model learns)\n",
        "                                            dtype=torch.float), # <- PyTorch loves float32 by default\n",
        "                                requires_grad=True) # <- can we update this value with gradient descent?))\n",
        "\n",
        "    # Forward defines the computation in the model\n",
        "    def forward(self, x: torch.Tensor) -> torch.Tensor: # <- \"x\" is the input data (e.g. training/testing features)\n",
        "        return self.weights * x + self.bias # <- this is the linear regression formula (y = m*x + b)\n"
      ],
      "metadata": {
        "id": "GsNPL5yKmDRO"
      },
      "execution_count": 6,
      "outputs": []
    },
    {
      "cell_type": "code",
      "source": [
        "torch.manual_seed(42)\n",
        "\n",
        "model_1 = LinearRegressionModel()\n",
        "\n",
        "list(model_1.parameters())"
      ],
      "metadata": {
        "id": "PoS0iH79niZa",
        "colab": {
          "base_uri": "https://localhost:8080/"
        },
        "outputId": "70bcf7e6-b5b3-4d0a-9c65-fbd04d50fcc4"
      },
      "execution_count": 7,
      "outputs": [
        {
          "output_type": "execute_result",
          "data": {
            "text/plain": [
              "[Parameter containing:\n",
              " tensor([0.3367], requires_grad=True), Parameter containing:\n",
              " tensor([0.1288], requires_grad=True)]"
            ]
          },
          "metadata": {},
          "execution_count": 7
        }
      ]
    },
    {
      "cell_type": "code",
      "source": [
        "model_1.state_dict()"
      ],
      "metadata": {
        "colab": {
          "base_uri": "https://localhost:8080/"
        },
        "id": "v6-0Pw2QygO8",
        "outputId": "b87360a0-c2fd-4197-d025-ca7b98468526"
      },
      "execution_count": 8,
      "outputs": [
        {
          "output_type": "execute_result",
          "data": {
            "text/plain": [
              "OrderedDict([('weights', tensor([0.3367])), ('bias', tensor([0.1288]))])"
            ]
          },
          "metadata": {},
          "execution_count": 8
        }
      ]
    },
    {
      "cell_type": "code",
      "source": [
        "with torch.inference_mode():\n",
        "  y_pred = model_1(X_test)"
      ],
      "metadata": {
        "id": "VZkmQsUYy6Sv"
      },
      "execution_count": 9,
      "outputs": []
    },
    {
      "cell_type": "code",
      "source": [
        "print(f\"Number of testing samples: {len(X_test)}\") \n",
        "print(f\"Number of predictions made: {len(y_pred)}\")\n",
        "print(f\"Predicted values:\\n{y_pred}\")"
      ],
      "metadata": {
        "colab": {
          "base_uri": "https://localhost:8080/"
        },
        "id": "qcsDJSfuz3d2",
        "outputId": "988e1cd1-432b-4924-9ac4-7f8e038364ff"
      },
      "execution_count": 10,
      "outputs": [
        {
          "output_type": "stream",
          "name": "stdout",
          "text": [
            "Number of testing samples: 10\n",
            "Number of predictions made: 10\n",
            "Predicted values:\n",
            "tensor([[0.3982],\n",
            "        [0.4049],\n",
            "        [0.4116],\n",
            "        [0.4184],\n",
            "        [0.4251],\n",
            "        [0.4318],\n",
            "        [0.4386],\n",
            "        [0.4453],\n",
            "        [0.4520],\n",
            "        [0.4588]])\n"
          ]
        }
      ]
    },
    {
      "cell_type": "code",
      "source": [
        "with torch.inference_mode():\n",
        "\n",
        "  plot_predictions(predictions = model_1(X_test))\n"
      ],
      "metadata": {
        "colab": {
          "base_uri": "https://localhost:8080/",
          "height": 428
        },
        "id": "ZNAWOn4t0AD4",
        "outputId": "9abe70a6-7678-4280-ed75-d102dac06292"
      },
      "execution_count": 11,
      "outputs": [
        {
          "output_type": "display_data",
          "data": {
            "text/plain": [
              "<Figure size 720x504 with 1 Axes>"
            ],
            "image/png": "[encoded data removed]"
          },
          "metadata": {
            "needs_background": "light"
          }
        }
      ]
    },
    {
      "cell_type": "code",
      "source": [
        "loss_fn = nn.L1Loss()\n",
        "\n",
        "optimizer = torch.optim.SGD(params = model_1.parameters(),lr = 0.01)"
      ],
      "metadata": {
        "id": "7DV-y1CW5nDX"
      },
      "execution_count": 12,
      "outputs": []
    },
    {
      "cell_type": "code",
      "source": [
        "torch.manual_seed(42)\n",
        "\n",
        "epochs = 100\n",
        "\n",
        "train_loss_values = []\n",
        "test_loss_values = []\n",
        "epochs_count = []\n",
        "\n",
        "for epoch in range(epochs):\n",
        "  model_1.train()\n",
        "\n",
        "  y_pred = model_1(X_train)\n",
        "\n",
        "  loss = loss_fn(y_pred,y_train)\n",
        "\n",
        "  optimizer.zero_grad()\n",
        "\n",
        "  loss.backward()\n",
        "\n",
        "  optimizer.step()\n",
        "\n",
        "  model_1.eval()\n",
        "\n",
        "  with torch.inference_mode():\n",
        "    test_pred = model_1(X_test)\n",
        "    test_loss = loss_fn(test_pred,y_test.type(torch.float))\n",
        "\n",
        "    if epochs%10 == 0:\n",
        "      epochs_count.append(epoch)\n",
        "      train_loss_values.append(loss.detach().numpy())\n",
        "      test_loss_values.append(test_loss.detach().numpy())\n",
        "      print(f\"Epoch: {epoch} | MAE Train Loss: {loss} | MAE Test Loss: {test_loss} \")"
      ],
      "metadata": {
        "colab": {
          "base_uri": "https://localhost:8080/"
        },
        "id": "Kjc9jfzN6F7B",
        "outputId": "6029bce4-25fd-4f36-fec6-932edd828d73"
      },
      "execution_count": 13,
      "outputs": [
        {
          "output_type": "stream",
          "name": "stdout",
          "text": [
            "Epoch: 0 | MAE Train Loss: 0.31288138031959534 | MAE Test Loss: 0.48106518387794495 \n",
            "Epoch: 1 | MAE Train Loss: 0.3013603389263153 | MAE Test Loss: 0.4675942063331604 \n",
            "Epoch: 2 | MAE Train Loss: 0.28983935713768005 | MAE Test Loss: 0.4541231691837311 \n",
            "Epoch: 3 | MAE Train Loss: 0.2783183455467224 | MAE Test Loss: 0.44065219163894653 \n",
            "Epoch: 4 | MAE Train Loss: 0.26679736375808716 | MAE Test Loss: 0.4271811842918396 \n",
            "Epoch: 5 | MAE Train Loss: 0.2552763521671295 | MAE Test Loss: 0.41371020674705505 \n",
            "Epoch: 6 | MAE Train Loss: 0.24375534057617188 | MAE Test Loss: 0.40023916959762573 \n",
            "Epoch: 7 | MAE Train Loss: 0.23223432898521423 | MAE Test Loss: 0.3867681920528412 \n",
            "Epoch: 8 | MAE Train Loss: 0.22071333229541779 | MAE Test Loss: 0.37329721450805664 \n",
            "Epoch: 9 | MAE Train Loss: 0.20919232070446014 | MAE Test Loss: 0.3598262071609497 \n",
            "Epoch: 10 | MAE Train Loss: 0.1976713240146637 | MAE Test Loss: 0.3463551998138428 \n",
            "Epoch: 11 | MAE Train Loss: 0.18615034222602844 | MAE Test Loss: 0.3328842222690582 \n",
            "Epoch: 12 | MAE Train Loss: 0.1746293306350708 | MAE Test Loss: 0.3194132149219513 \n",
            "Epoch: 13 | MAE Train Loss: 0.16310831904411316 | MAE Test Loss: 0.30594223737716675 \n",
            "Epoch: 14 | MAE Train Loss: 0.1515873372554779 | MAE Test Loss: 0.2924712300300598 \n",
            "Epoch: 15 | MAE Train Loss: 0.14006635546684265 | MAE Test Loss: 0.27900025248527527 \n",
            "Epoch: 16 | MAE Train Loss: 0.1285453587770462 | MAE Test Loss: 0.2655292749404907 \n",
            "Epoch: 17 | MAE Train Loss: 0.11702437698841095 | MAE Test Loss: 0.2520582973957062 \n",
            "Epoch: 18 | MAE Train Loss: 0.1060912236571312 | MAE Test Loss: 0.2395961582660675 \n",
            "Epoch: 19 | MAE Train Loss: 0.09681284427642822 | MAE Test Loss: 0.22817862033843994 \n",
            "Epoch: 20 | MAE Train Loss: 0.08908725529909134 | MAE Test Loss: 0.21729660034179688 \n",
            "Epoch: 21 | MAE Train Loss: 0.08227583020925522 | MAE Test Loss: 0.2069590985774994 \n",
            "Epoch: 22 | MAE Train Loss: 0.07638873159885406 | MAE Test Loss: 0.19773726165294647 \n",
            "Epoch: 23 | MAE Train Loss: 0.07160007208585739 | MAE Test Loss: 0.1890866756439209 \n",
            "Epoch: 24 | MAE Train Loss: 0.06747635453939438 | MAE Test Loss: 0.18101617693901062 \n",
            "Epoch: 25 | MAE Train Loss: 0.06395438313484192 | MAE Test Loss: 0.17353470623493195 \n",
            "Epoch: 26 | MAE Train Loss: 0.06097004935145378 | MAE Test Loss: 0.16665108501911163 \n",
            "Epoch: 27 | MAE Train Loss: 0.05845819041132927 | MAE Test Loss: 0.16037428379058838 \n",
            "Epoch: 28 | MAE Train Loss: 0.05635259300470352 | MAE Test Loss: 0.15471318364143372 \n",
            "Epoch: 29 | MAE Train Loss: 0.0545857772231102 | MAE Test Loss: 0.14967669546604156 \n",
            "Epoch: 30 | MAE Train Loss: 0.053148526698350906 | MAE Test Loss: 0.14464017748832703 \n",
            "Epoch: 31 | MAE Train Loss: 0.05181945487856865 | MAE Test Loss: 0.14023718237876892 \n",
            "Epoch: 32 | MAE Train Loss: 0.05069301277399063 | MAE Test Loss: 0.13647659122943878 \n",
            "Epoch: 33 | MAE Train Loss: 0.0498228520154953 | MAE Test Loss: 0.13271598517894745 \n",
            "Epoch: 34 | MAE Train Loss: 0.04895269125699997 | MAE Test Loss: 0.12895536422729492 \n",
            "Epoch: 35 | MAE Train Loss: 0.04819351062178612 | MAE Test Loss: 0.12584610283374786 \n",
            "Epoch: 36 | MAE Train Loss: 0.047531817108392715 | MAE Test Loss: 0.12273679673671722 \n",
            "Epoch: 37 | MAE Train Loss: 0.04692792519927025 | MAE Test Loss: 0.1202877014875412 \n",
            "Epoch: 38 | MAE Train Loss: 0.04642331600189209 | MAE Test Loss: 0.11783860623836517 \n",
            "Epoch: 39 | MAE Train Loss: 0.04591871052980423 | MAE Test Loss: 0.11538954079151154 \n",
            "Epoch: 40 | MAE Train Loss: 0.04543796554207802 | MAE Test Loss: 0.11360953003168106 \n",
            "Epoch: 41 | MAE Train Loss: 0.04503796249628067 | MAE Test Loss: 0.11182951927185059 \n",
            "Epoch: 42 | MAE Train Loss: 0.04463795945048332 | MAE Test Loss: 0.1100495308637619 \n",
            "Epoch: 43 | MAE Train Loss: 0.04423796385526657 | MAE Test Loss: 0.10826952755451202 \n",
            "Epoch: 44 | MAE Train Loss: 0.04383796453475952 | MAE Test Loss: 0.10648951679468155 \n",
            "Epoch: 45 | MAE Train Loss: 0.04343796148896217 | MAE Test Loss: 0.10470950603485107 \n",
            "Epoch: 46 | MAE Train Loss: 0.043074630200862885 | MAE Test Loss: 0.10360751301050186 \n",
            "Epoch: 47 | MAE Train Loss: 0.04272563382983208 | MAE Test Loss: 0.10250549018383026 \n",
            "Epoch: 48 | MAE Train Loss: 0.04237663000822067 | MAE Test Loss: 0.10140349715948105 \n",
            "Epoch: 49 | MAE Train Loss: 0.04202762991189957 | MAE Test Loss: 0.10030148178339005 \n",
            "Epoch: 50 | MAE Train Loss: 0.04167863354086876 | MAE Test Loss: 0.09919948130846024 \n",
            "Epoch: 51 | MAE Train Loss: 0.04132963344454765 | MAE Test Loss: 0.09809747338294983 \n",
            "Epoch: 52 | MAE Train Loss: 0.04098063334822655 | MAE Test Loss: 0.09699545800685883 \n",
            "Epoch: 53 | MAE Train Loss: 0.04063162952661514 | MAE Test Loss: 0.09589345753192902 \n",
            "Epoch: 54 | MAE Train Loss: 0.040282636880874634 | MAE Test Loss: 0.0947914719581604 \n",
            "Epoch: 55 | MAE Train Loss: 0.039933640509843826 | MAE Test Loss: 0.09368947893381119 \n",
            "Epoch: 56 | MAE Train Loss: 0.03958464413881302 | MAE Test Loss: 0.09258746355772018 \n",
            "Epoch: 57 | MAE Train Loss: 0.03923564404249191 | MAE Test Loss: 0.09148545563220978 \n",
            "Epoch: 58 | MAE Train Loss: 0.03888664394617081 | MAE Test Loss: 0.09038344770669937 \n",
            "Epoch: 59 | MAE Train Loss: 0.0385376438498497 | MAE Test Loss: 0.08928143978118896 \n",
            "Epoch: 60 | MAE Train Loss: 0.03818932920694351 | MAE Test Loss: 0.08886633068323135 \n",
            "Epoch: 61 | MAE Train Loss: 0.03785243630409241 | MAE Test Loss: 0.08776430785655975 \n",
            "Epoch: 62 | MAE Train Loss: 0.0375034399330616 | MAE Test Loss: 0.08666229248046875 \n",
            "Epoch: 63 | MAE Train Loss: 0.037164121866226196 | MAE Test Loss: 0.08624717593193054 \n",
            "Epoch: 64 | MAE Train Loss: 0.03681822493672371 | MAE Test Loss: 0.08514519035816193 \n",
            "Epoch: 65 | MAE Train Loss: 0.03647511452436447 | MAE Test Loss: 0.08473004400730133 \n",
            "Epoch: 66 | MAE Train Loss: 0.03613303601741791 | MAE Test Loss: 0.08362803608179092 \n",
            "Epoch: 67 | MAE Train Loss: 0.03578609973192215 | MAE Test Loss: 0.08321291208267212 \n",
            "Epoch: 68 | MAE Train Loss: 0.03544783592224121 | MAE Test Loss: 0.08211090415716171 \n",
            "Epoch: 69 | MAE Train Loss: 0.035098835825920105 | MAE Test Loss: 0.0810088962316513 \n",
            "Epoch: 70 | MAE Train Loss: 0.03476089984178543 | MAE Test Loss: 0.0805937647819519 \n",
            "Epoch: 71 | MAE Train Loss: 0.03441363573074341 | MAE Test Loss: 0.0794917643070221 \n",
            "Epoch: 72 | MAE Train Loss: 0.03407188132405281 | MAE Test Loss: 0.07907666265964508 \n",
            "Epoch: 73 | MAE Train Loss: 0.03372843936085701 | MAE Test Loss: 0.07797462493181229 \n",
            "Epoch: 74 | MAE Train Loss: 0.03338287025690079 | MAE Test Loss: 0.07755951583385468 \n",
            "Epoch: 75 | MAE Train Loss: 0.033043231815099716 | MAE Test Loss: 0.07645749300718307 \n",
            "Epoch: 76 | MAE Train Loss: 0.03269423171877861 | MAE Test Loss: 0.07535548508167267 \n",
            "Epoch: 77 | MAE Train Loss: 0.032357655465602875 | MAE Test Loss: 0.07494036853313446 \n",
            "Epoch: 78 | MAE Train Loss: 0.03200903534889221 | MAE Test Loss: 0.07383836805820465 \n",
            "Epoch: 79 | MAE Train Loss: 0.03166864812374115 | MAE Test Loss: 0.07342323660850525 \n",
            "Epoch: 80 | MAE Train Loss: 0.03132382780313492 | MAE Test Loss: 0.07232122868299484 \n",
            "Epoch: 81 | MAE Train Loss: 0.030979642644524574 | MAE Test Loss: 0.07190609723329544 \n",
            "Epoch: 82 | MAE Train Loss: 0.030638623982667923 | MAE Test Loss: 0.07080408930778503 \n",
            "Epoch: 83 | MAE Train Loss: 0.0302906334400177 | MAE Test Loss: 0.07038896530866623 \n",
            "Epoch: 84 | MAE Train Loss: 0.029953425750136375 | MAE Test Loss: 0.06928696483373642 \n",
            "Epoch: 85 | MAE Train Loss: 0.02960442565381527 | MAE Test Loss: 0.06818496435880661 \n",
            "Epoch: 86 | MAE Train Loss: 0.029265418648719788 | MAE Test Loss: 0.0677698403596878 \n",
            "Epoch: 87 | MAE Train Loss: 0.028919223695993423 | MAE Test Loss: 0.0666678324341774 \n",
            "Epoch: 88 | MAE Train Loss: 0.028576409444212914 | MAE Test Loss: 0.066252700984478 \n",
            "Epoch: 89 | MAE Train Loss: 0.028234025463461876 | MAE Test Loss: 0.06515069305896759 \n",
            "Epoch: 90 | MAE Train Loss: 0.02788739837706089 | MAE Test Loss: 0.06473556160926819 \n",
            "Epoch: 91 | MAE Train Loss: 0.02754882536828518 | MAE Test Loss: 0.06363357603549957 \n",
            "Epoch: 92 | MAE Train Loss: 0.027199819684028625 | MAE Test Loss: 0.06253156810998917 \n",
            "Epoch: 93 | MAE Train Loss: 0.026862185448408127 | MAE Test Loss: 0.062116436660289764 \n",
            "Epoch: 94 | MAE Train Loss: 0.02651461586356163 | MAE Test Loss: 0.061014432460069656 \n",
            "Epoch: 95 | MAE Train Loss: 0.026173178106546402 | MAE Test Loss: 0.06059930846095085 \n",
            "Epoch: 96 | MAE Train Loss: 0.025829419493675232 | MAE Test Loss: 0.05949730426073074 \n",
            "Epoch: 97 | MAE Train Loss: 0.02548416517674923 | MAE Test Loss: 0.05908216908574104 \n",
            "Epoch: 98 | MAE Train Loss: 0.025144213810563087 | MAE Test Loss: 0.057980168610811234 \n",
            "Epoch: 99 | MAE Train Loss: 0.02479521557688713 | MAE Test Loss: 0.05687814950942993 \n"
          ]
        }
      ]
    },
    {
      "cell_type": "code",
      "source": [
        "plt.plot(epochs_count,train_loss_values,label = \"Train_loss\")\n",
        "plt.plot(epochs_count,test_loss_values,label = \"Test loss\")\n",
        "plt.legend();"
      ],
      "metadata": {
        "colab": {
          "base_uri": "https://localhost:8080/",
          "height": 268
        },
        "id": "M-PW6sbS9UMm",
        "outputId": "a425cd88-d97f-42c7-aedf-a6667e1c2921"
      },
      "execution_count": 14,
      "outputs": [
        {
          "output_type": "display_data",
          "data": {
            "text/plain": [
              "<Figure size 432x288 with 1 Axes>"
            ],
            "image/png": "[encoded data removed]"
          },
          "metadata": {
            "needs_background": "light"
          }
        }
      ]
    },
    {
      "cell_type": "code",
      "source": [
        "from pathlib import Path\n",
        "import os\n",
        "\n",
        "MODEL_PATH = Path(\"models\")\n",
        "MODEL_PATH.mkdir(parents = True,exist_ok = True)\n",
        "\n",
        "MODEL_NAME = \"01_pytorch_workflow_model_1.pth\"\n",
        "MODEL_SAVE_PATH = os.path.join(MODEL_PATH,MODEL_NAME)"
      ],
      "metadata": {
        "id": "hzlLTd0ZXK9h"
      },
      "execution_count": 15,
      "outputs": []
    },
    {
      "cell_type": "code",
      "source": [
        "print(f\"Saving model to: {MODEL_SAVE_PATH}\")\n",
        "torch.save(obj=model_1.state_dict(), # only saving the state_dict() only saves the models learned parameters\n",
        "           f=MODEL_SAVE_PATH) "
      ],
      "metadata": {
        "colab": {
          "base_uri": "https://localhost:8080/"
        },
        "id": "Sx5QOAuGleAA",
        "outputId": "f8cdc38a-8920-4563-b99c-affdf5075bf2"
      },
      "execution_count": 16,
      "outputs": [
        {
          "output_type": "stream",
          "name": "stdout",
          "text": [
            "Saving model to: models/01_pytorch_workflow_model_1.pth\n"
          ]
        }
      ]
    },
    {
      "cell_type": "code",
      "source": [
        "loaded_model_0 = LinearRegressionModel()\n",
        "\n",
        "loaded_model_0.load_state_dict(torch.load(f=MODEL_SAVE_PATH))"
      ],
      "metadata": {
        "colab": {
          "base_uri": "https://localhost:8080/"
        },
        "id": "1ajlZIIInfsV",
        "outputId": "085b6558-65a2-45ce-c7e8-436746bf041f"
      },
      "execution_count": 17,
      "outputs": [
        {
          "output_type": "execute_result",
          "data": {
            "text/plain": [
              "<All keys matched successfully>"
            ]
          },
          "metadata": {},
          "execution_count": 17
        }
      ]
    },
    {
      "cell_type": "code",
      "source": [
        "loaded_model_0"
      ],
      "metadata": {
        "id": "4jc04-4Inwea"
      },
      "execution_count": null,
      "outputs": []
    }
  ]
}