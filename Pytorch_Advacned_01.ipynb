{
  "nbformat": 4,
  "nbformat_minor": 0,
  "metadata": {
    "colab": {
      "provenance": [],
      "authorship_tag": "ABX9TyMcuz4NEo+Sk6ZLuuv94l9L",
      "include_colab_link": true
    },
    "kernelspec": {
      "name": "python3",
      "display_name": "Python 3"
    },
    "language_info": {
      "name": "python"
    }
  },
  "cells": [
    {
      "cell_type": "markdown",
      "metadata": {
        "id": "view-in-github",
        "colab_type": "text"
      },
      "source": [
        "<a href=\"https://colab.research.google.com/github/sahanediriweera/advancedPytorch/blob/main/Pytorch_Advacned_01.ipynb\" target=\"_parent\"><img src=\"https://colab.research.google.com/assets/colab-badge.svg\" alt=\"Open In Colab\"/></a>"
      ]
    },
    {
      "cell_type": "code",
      "source": [
        "import torch\n",
        "torch.__version__"
      ],
      "metadata": {
        "colab": {
          "base_uri": "https://localhost:8080/",
          "height": 36
        },
        "id": "BpO_9xHICbxK",
        "outputId": "8f97361d-10c8-4150-8c64-789b97fd67f2"
      },
      "execution_count": 2,
      "outputs": [
        {
          "output_type": "execute_result",
          "data": {
            "text/plain": [
              "'1.13.0+cu116'"
            ],
            "application/vnd.google.colaboratory.intrinsic+json": {
              "type": "string"
            }
          },
          "metadata": {},
          "execution_count": 2
        }
      ]
    },
    {
      "cell_type": "code",
      "source": [
        "scalar = torch.tensor(7)\n",
        "scalar"
      ],
      "metadata": {
        "colab": {
          "base_uri": "https://localhost:8080/"
        },
        "id": "pQbNacfxDsIw",
        "outputId": "04b668f0-1d6c-4a87-f052-8b15a2a46a97"
      },
      "execution_count": 3,
      "outputs": [
        {
          "output_type": "execute_result",
          "data": {
            "text/plain": [
              "tensor(7)"
            ]
          },
          "metadata": {},
          "execution_count": 3
        }
      ]
    },
    {
      "cell_type": "code",
      "source": [
        "scalar.ndim"
      ],
      "metadata": {
        "colab": {
          "base_uri": "https://localhost:8080/"
        },
        "id": "Wg2cDhFFD5Ja",
        "outputId": "631d588a-656f-4d97-80a0-838fffbde4e4"
      },
      "execution_count": 4,
      "outputs": [
        {
          "output_type": "execute_result",
          "data": {
            "text/plain": [
              "0"
            ]
          },
          "metadata": {},
          "execution_count": 4
        }
      ]
    },
    {
      "cell_type": "code",
      "source": [
        "scalar.item()"
      ],
      "metadata": {
        "colab": {
          "base_uri": "https://localhost:8080/"
        },
        "id": "PbPPH4oeD-oC",
        "outputId": "87881277-6ac5-43fb-96ab-5adb0c0f1f26"
      },
      "execution_count": 5,
      "outputs": [
        {
          "output_type": "execute_result",
          "data": {
            "text/plain": [
              "7"
            ]
          },
          "metadata": {},
          "execution_count": 5
        }
      ]
    },
    {
      "cell_type": "code",
      "source": [
        "vector = torch.tensor([7,7])\n",
        "vector"
      ],
      "metadata": {
        "colab": {
          "base_uri": "https://localhost:8080/"
        },
        "id": "hW3yW6vYEF-i",
        "outputId": "72c738c4-6c6c-4cf6-dfbe-c37244f26530"
      },
      "execution_count": 6,
      "outputs": [
        {
          "output_type": "execute_result",
          "data": {
            "text/plain": [
              "tensor([7, 7])"
            ]
          },
          "metadata": {},
          "execution_count": 6
        }
      ]
    },
    {
      "cell_type": "code",
      "source": [
        "vector.ndim"
      ],
      "metadata": {
        "colab": {
          "base_uri": "https://localhost:8080/"
        },
        "id": "6LnztgjEEQQK",
        "outputId": "bdad1701-d626-40c7-c285-9c77ab6e5e88"
      },
      "execution_count": 7,
      "outputs": [
        {
          "output_type": "execute_result",
          "data": {
            "text/plain": [
              "1"
            ]
          },
          "metadata": {},
          "execution_count": 7
        }
      ]
    },
    {
      "cell_type": "code",
      "source": [
        "vector.shape"
      ],
      "metadata": {
        "colab": {
          "base_uri": "https://localhost:8080/"
        },
        "id": "WP04aK9CEb36",
        "outputId": "dae3cca8-250c-411a-b3a5-4ee0c8165f97"
      },
      "execution_count": 8,
      "outputs": [
        {
          "output_type": "execute_result",
          "data": {
            "text/plain": [
              "torch.Size([2])"
            ]
          },
          "metadata": {},
          "execution_count": 8
        }
      ]
    },
    {
      "cell_type": "code",
      "source": [
        "MATRIX = torch.tensor(\n",
        "    [\n",
        "        [7,10],\n",
        "        [10,2]\n",
        "    ]\n",
        ")\n",
        "MATRIX"
      ],
      "metadata": {
        "colab": {
          "base_uri": "https://localhost:8080/"
        },
        "id": "RfciZQW7Eott",
        "outputId": "6bc316e2-67c6-4b28-f261-5f05bbc72a61"
      },
      "execution_count": 9,
      "outputs": [
        {
          "output_type": "execute_result",
          "data": {
            "text/plain": [
              "tensor([[ 7, 10],\n",
              "        [10,  2]])"
            ]
          },
          "metadata": {},
          "execution_count": 9
        }
      ]
    },
    {
      "cell_type": "code",
      "source": [
        "tensor = torch.tensor([\n",
        "    [7,5,6],\n",
        "    [8,5,3,],\n",
        "    [7,5,3]\n",
        "])\n",
        "tensor"
      ],
      "metadata": {
        "colab": {
          "base_uri": "https://localhost:8080/"
        },
        "id": "6Z62UZhgFKei",
        "outputId": "83caae3d-cdc0-4f06-e063-4c826b8df8ea"
      },
      "execution_count": 10,
      "outputs": [
        {
          "output_type": "execute_result",
          "data": {
            "text/plain": [
              "tensor([[7, 5, 6],\n",
              "        [8, 5, 3],\n",
              "        [7, 5, 3]])"
            ]
          },
          "metadata": {},
          "execution_count": 10
        }
      ]
    },
    {
      "cell_type": "code",
      "source": [
        "TENSOR = torch.tensor([[\n",
        "                        [7,8,5],\n",
        "                        [1,5,9],\n",
        "                        [4,7,3]]])"
      ],
      "metadata": {
        "id": "rVfhxrxKFgWP"
      },
      "execution_count": 14,
      "outputs": []
    },
    {
      "cell_type": "code",
      "source": [
        "TENSOR.ndim"
      ],
      "metadata": {
        "colab": {
          "base_uri": "https://localhost:8080/"
        },
        "id": "ZPVkITz7MJiT",
        "outputId": "f6457b67-3374-4230-a412-5806bac939ff"
      },
      "execution_count": 12,
      "outputs": [
        {
          "output_type": "execute_result",
          "data": {
            "text/plain": [
              "3"
            ]
          },
          "metadata": {},
          "execution_count": 12
        }
      ]
    },
    {
      "cell_type": "code",
      "source": [
        "TENSOR.shape"
      ],
      "metadata": {
        "colab": {
          "base_uri": "https://localhost:8080/"
        },
        "id": "6LcMsruMMQyb",
        "outputId": "4ab8b86c-c54d-42c1-e48e-09f6c18886be"
      },
      "execution_count": 15,
      "outputs": [
        {
          "output_type": "execute_result",
          "data": {
            "text/plain": [
              "torch.Size([1, 3, 3])"
            ]
          },
          "metadata": {},
          "execution_count": 15
        }
      ]
    },
    {
      "cell_type": "code",
      "source": [
        "random_tensor = torch.rand(size=(3,4))\n",
        "random_tensor, random_tensor.dtype"
      ],
      "metadata": {
        "colab": {
          "base_uri": "https://localhost:8080/"
        },
        "id": "niJDIpNGNO47",
        "outputId": "c4944a11-1fba-496a-cf0a-6897bab14512"
      },
      "execution_count": 16,
      "outputs": [
        {
          "output_type": "execute_result",
          "data": {
            "text/plain": [
              "(tensor([[0.8609, 0.1907, 0.9918, 0.1106],\n",
              "         [0.1450, 0.2527, 0.0897, 0.9047],\n",
              "         [0.6607, 0.0921, 0.9720, 0.7817]]), torch.float32)"
            ]
          },
          "metadata": {},
          "execution_count": 16
        }
      ]
    },
    {
      "cell_type": "code",
      "source": [
        "random_image_size_tensor = torch.rand(size=(224,224,33))\n",
        "random_image_size_tensor, random_image_size_tensor.dtype"
      ],
      "metadata": {
        "colab": {
          "base_uri": "https://localhost:8080/"
        },
        "id": "gtJdVI80Nxsm",
        "outputId": "05984892-4e9e-4a52-c540-e096e486f5c3"
      },
      "execution_count": 17,
      "outputs": [
        {
          "output_type": "execute_result",
          "data": {
            "text/plain": [
              "(tensor([[[0.0156, 0.9081, 0.0423,  ..., 0.2486, 0.8264, 0.1123],\n",
              "          [0.1225, 0.8074, 0.5984,  ..., 0.6060, 0.6081, 0.3754],\n",
              "          [0.5195, 0.6024, 0.9286,  ..., 0.2569, 0.3361, 0.2269],\n",
              "          ...,\n",
              "          [0.9310, 0.4473, 0.2186,  ..., 0.4932, 0.7176, 0.3699],\n",
              "          [0.7405, 0.1565, 0.2818,  ..., 0.3729, 0.0982, 0.8156],\n",
              "          [0.2944, 0.7152, 0.3363,  ..., 0.5324, 0.1865, 0.8472]],\n",
              " \n",
              "         [[0.8262, 0.2876, 0.0317,  ..., 0.6327, 0.9328, 0.3712],\n",
              "          [0.5042, 0.3230, 0.1632,  ..., 0.1338, 0.1229, 0.9203],\n",
              "          [0.3514, 0.2055, 0.7041,  ..., 0.3881, 0.4897, 0.4241],\n",
              "          ...,\n",
              "          [0.7415, 0.0761, 0.0953,  ..., 0.4833, 0.6822, 0.1234],\n",
              "          [0.0351, 0.6045, 0.1385,  ..., 0.4307, 0.5705, 0.7656],\n",
              "          [0.3513, 0.3289, 0.6061,  ..., 0.6498, 0.4724, 0.4385]],\n",
              " \n",
              "         [[0.8708, 0.4793, 0.7761,  ..., 0.7810, 0.5484, 0.6877],\n",
              "          [0.3757, 0.2198, 0.7985,  ..., 0.8387, 0.4372, 0.8352],\n",
              "          [0.9977, 0.7569, 0.4127,  ..., 0.4860, 0.7160, 0.7385],\n",
              "          ...,\n",
              "          [0.9089, 0.9550, 0.3371,  ..., 0.1409, 0.6454, 0.7559],\n",
              "          [0.3469, 0.1593, 0.5918,  ..., 0.8328, 0.6488, 0.7867],\n",
              "          [0.2136, 0.9432, 0.9085,  ..., 0.5445, 0.6004, 0.2207]],\n",
              " \n",
              "         ...,\n",
              " \n",
              "         [[0.0495, 0.2675, 0.7967,  ..., 0.5643, 0.1032, 0.7879],\n",
              "          [0.1632, 0.1704, 0.9798,  ..., 0.7763, 0.4282, 0.9060],\n",
              "          [0.9747, 0.0958, 0.9732,  ..., 0.5681, 0.6677, 0.4975],\n",
              "          ...,\n",
              "          [0.3060, 0.8132, 0.3699,  ..., 0.7022, 0.4477, 0.8092],\n",
              "          [0.8510, 0.2039, 0.7733,  ..., 0.7946, 0.8133, 0.8054],\n",
              "          [0.4258, 0.7673, 0.9647,  ..., 0.5499, 0.6255, 0.0615]],\n",
              " \n",
              "         [[0.7182, 0.2121, 0.9607,  ..., 0.0749, 0.5385, 0.5908],\n",
              "          [0.0857, 0.0858, 0.8200,  ..., 0.1665, 0.2885, 0.4037],\n",
              "          [0.3911, 0.1805, 0.2587,  ..., 0.7800, 0.0414, 0.1019],\n",
              "          ...,\n",
              "          [0.9983, 0.0607, 0.7397,  ..., 0.3714, 0.6393, 0.9808],\n",
              "          [0.3724, 0.9546, 0.5021,  ..., 0.2117, 0.4434, 0.0967],\n",
              "          [0.1545, 0.0463, 0.2760,  ..., 0.1197, 0.3114, 0.0699]],\n",
              " \n",
              "         [[0.6966, 0.9385, 0.4180,  ..., 0.0993, 0.3902, 0.9195],\n",
              "          [0.2993, 0.0733, 0.4609,  ..., 0.5597, 0.7473, 0.3834],\n",
              "          [0.8819, 0.2074, 0.1821,  ..., 0.1044, 0.0652, 0.0979],\n",
              "          ...,\n",
              "          [0.5457, 0.0431, 0.0027,  ..., 0.4053, 0.9638, 0.2535],\n",
              "          [0.4257, 0.5368, 0.0778,  ..., 0.2025, 0.6159, 0.0779],\n",
              "          [0.2148, 0.8560, 0.5244,  ..., 0.7541, 0.5980, 0.2717]]]),\n",
              " torch.float32)"
            ]
          },
          "metadata": {},
          "execution_count": 17
        }
      ]
    },
    {
      "cell_type": "code",
      "source": [
        "zeros = torch.zeros(size = (224,224,3))\n",
        "zeros, zeros.dtype"
      ],
      "metadata": {
        "colab": {
          "base_uri": "https://localhost:8080/"
        },
        "id": "Ih564R2_N90D",
        "outputId": "fc8e679d-8d79-41c0-867c-b333b3ca52b9"
      },
      "execution_count": 18,
      "outputs": [
        {
          "output_type": "execute_result",
          "data": {
            "text/plain": [
              "(tensor([[[0., 0., 0.],\n",
              "          [0., 0., 0.],\n",
              "          [0., 0., 0.],\n",
              "          ...,\n",
              "          [0., 0., 0.],\n",
              "          [0., 0., 0.],\n",
              "          [0., 0., 0.]],\n",
              " \n",
              "         [[0., 0., 0.],\n",
              "          [0., 0., 0.],\n",
              "          [0., 0., 0.],\n",
              "          ...,\n",
              "          [0., 0., 0.],\n",
              "          [0., 0., 0.],\n",
              "          [0., 0., 0.]],\n",
              " \n",
              "         [[0., 0., 0.],\n",
              "          [0., 0., 0.],\n",
              "          [0., 0., 0.],\n",
              "          ...,\n",
              "          [0., 0., 0.],\n",
              "          [0., 0., 0.],\n",
              "          [0., 0., 0.]],\n",
              " \n",
              "         ...,\n",
              " \n",
              "         [[0., 0., 0.],\n",
              "          [0., 0., 0.],\n",
              "          [0., 0., 0.],\n",
              "          ...,\n",
              "          [0., 0., 0.],\n",
              "          [0., 0., 0.],\n",
              "          [0., 0., 0.]],\n",
              " \n",
              "         [[0., 0., 0.],\n",
              "          [0., 0., 0.],\n",
              "          [0., 0., 0.],\n",
              "          ...,\n",
              "          [0., 0., 0.],\n",
              "          [0., 0., 0.],\n",
              "          [0., 0., 0.]],\n",
              " \n",
              "         [[0., 0., 0.],\n",
              "          [0., 0., 0.],\n",
              "          [0., 0., 0.],\n",
              "          ...,\n",
              "          [0., 0., 0.],\n",
              "          [0., 0., 0.],\n",
              "          [0., 0., 0.]]]), torch.float32)"
            ]
          },
          "metadata": {},
          "execution_count": 18
        }
      ]
    },
    {
      "cell_type": "code",
      "source": [
        "ones = torch.ones(size = (224,224,3))\n",
        "ones, ones.dtype"
      ],
      "metadata": {
        "colab": {
          "base_uri": "https://localhost:8080/"
        },
        "id": "72TefvaoOKdT",
        "outputId": "e727c951-7c9c-43f6-c222-59c298025099"
      },
      "execution_count": 19,
      "outputs": [
        {
          "output_type": "execute_result",
          "data": {
            "text/plain": [
              "(tensor([[[1., 1., 1.],\n",
              "          [1., 1., 1.],\n",
              "          [1., 1., 1.],\n",
              "          ...,\n",
              "          [1., 1., 1.],\n",
              "          [1., 1., 1.],\n",
              "          [1., 1., 1.]],\n",
              " \n",
              "         [[1., 1., 1.],\n",
              "          [1., 1., 1.],\n",
              "          [1., 1., 1.],\n",
              "          ...,\n",
              "          [1., 1., 1.],\n",
              "          [1., 1., 1.],\n",
              "          [1., 1., 1.]],\n",
              " \n",
              "         [[1., 1., 1.],\n",
              "          [1., 1., 1.],\n",
              "          [1., 1., 1.],\n",
              "          ...,\n",
              "          [1., 1., 1.],\n",
              "          [1., 1., 1.],\n",
              "          [1., 1., 1.]],\n",
              " \n",
              "         ...,\n",
              " \n",
              "         [[1., 1., 1.],\n",
              "          [1., 1., 1.],\n",
              "          [1., 1., 1.],\n",
              "          ...,\n",
              "          [1., 1., 1.],\n",
              "          [1., 1., 1.],\n",
              "          [1., 1., 1.]],\n",
              " \n",
              "         [[1., 1., 1.],\n",
              "          [1., 1., 1.],\n",
              "          [1., 1., 1.],\n",
              "          ...,\n",
              "          [1., 1., 1.],\n",
              "          [1., 1., 1.],\n",
              "          [1., 1., 1.]],\n",
              " \n",
              "         [[1., 1., 1.],\n",
              "          [1., 1., 1.],\n",
              "          [1., 1., 1.],\n",
              "          ...,\n",
              "          [1., 1., 1.],\n",
              "          [1., 1., 1.],\n",
              "          [1., 1., 1.]]]), torch.float32)"
            ]
          },
          "metadata": {},
          "execution_count": 19
        }
      ]
    },
    {
      "cell_type": "code",
      "source": [
        "zero_to_ten = torch.arange(start = 0,end = 10,step = 1)\n",
        "zero_to_ten"
      ],
      "metadata": {
        "colab": {
          "base_uri": "https://localhost:8080/"
        },
        "id": "aDintz95Obn8",
        "outputId": "0ee3abbc-ada0-426e-ae9b-20260533542e"
      },
      "execution_count": 22,
      "outputs": [
        {
          "output_type": "execute_result",
          "data": {
            "text/plain": [
              "tensor([0, 1, 2, 3, 4, 5, 6, 7, 8, 9])"
            ]
          },
          "metadata": {},
          "execution_count": 22
        }
      ]
    },
    {
      "cell_type": "code",
      "source": [
        "ten_zeros_like = torch.zeros_like(input = zero_to_ten)\n",
        "ten_zeros_like"
      ],
      "metadata": {
        "colab": {
          "base_uri": "https://localhost:8080/"
        },
        "id": "0ljRQ4KAPVAx",
        "outputId": "b8d8320d-3c63-4b3c-823f-34cfd53af210"
      },
      "execution_count": 24,
      "outputs": [
        {
          "output_type": "execute_result",
          "data": {
            "text/plain": [
              "tensor([0, 0, 0, 0, 0, 0, 0, 0, 0, 0])"
            ]
          },
          "metadata": {},
          "execution_count": 24
        }
      ]
    }
  ]
}