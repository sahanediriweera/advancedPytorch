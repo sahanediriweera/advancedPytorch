{
  "nbformat": 4,
  "nbformat_minor": 0,
  "metadata": {
    "colab": {
      "provenance": [],
      "authorship_tag": "ABX9TyP4UjgI3J3vlNL/aRTFIg1J",
      "include_colab_link": true
    },
    "kernelspec": {
      "name": "python3",
      "display_name": "Python 3"
    },
    "language_info": {
      "name": "python"
    }
  },
  "cells": [
    {
      "cell_type": "markdown",
      "metadata": {
        "id": "view-in-github",
        "colab_type": "text"
      },
      "source": [
        "<a href=\"https://colab.research.google.com/github/sahanediriweera/advancedPytorch/blob/main/Pytorch_Advacned_01.ipynb\" target=\"_parent\"><img src=\"https://colab.research.google.com/assets/colab-badge.svg\" alt=\"Open In Colab\"/></a>"
      ]
    },
    {
      "cell_type": "code",
      "source": [
        "import torch\n",
        "torch.__version__"
      ],
      "metadata": {
        "colab": {
          "base_uri": "https://localhost:8080/",
          "height": 36
        },
        "id": "BpO_9xHICbxK",
        "outputId": "318ba628-ad14-4a20-c73d-b90503ef7dfa"
      },
      "execution_count": 1,
      "outputs": [
        {
          "output_type": "execute_result",
          "data": {
            "text/plain": [
              "'1.13.1+cu116'"
            ],
            "application/vnd.google.colaboratory.intrinsic+json": {
              "type": "string"
            }
          },
          "metadata": {},
          "execution_count": 1
        }
      ]
    },
    {
      "cell_type": "code",
      "source": [
        "scalar = torch.tensor(7)\n",
        "scalar"
      ],
      "metadata": {
        "colab": {
          "base_uri": "https://localhost:8080/"
        },
        "id": "pQbNacfxDsIw",
        "outputId": "59cbe814-1a3a-41ee-e1c2-9f0b3a492506"
      },
      "execution_count": 2,
      "outputs": [
        {
          "output_type": "execute_result",
          "data": {
            "text/plain": [
              "tensor(7)"
            ]
          },
          "metadata": {},
          "execution_count": 2
        }
      ]
    },
    {
      "cell_type": "code",
      "source": [
        "scalar.ndim"
      ],
      "metadata": {
        "colab": {
          "base_uri": "https://localhost:8080/"
        },
        "id": "Wg2cDhFFD5Ja",
        "outputId": "31c02e57-53a2-4b99-e00e-a8339241e50c"
      },
      "execution_count": 3,
      "outputs": [
        {
          "output_type": "execute_result",
          "data": {
            "text/plain": [
              "0"
            ]
          },
          "metadata": {},
          "execution_count": 3
        }
      ]
    },
    {
      "cell_type": "code",
      "source": [
        "scalar.item()"
      ],
      "metadata": {
        "colab": {
          "base_uri": "https://localhost:8080/"
        },
        "id": "PbPPH4oeD-oC",
        "outputId": "be42ec60-3ed6-418e-92d9-bfb5969bb253"
      },
      "execution_count": 4,
      "outputs": [
        {
          "output_type": "execute_result",
          "data": {
            "text/plain": [
              "7"
            ]
          },
          "metadata": {},
          "execution_count": 4
        }
      ]
    },
    {
      "cell_type": "code",
      "source": [
        "vector = torch.tensor([7,7])\n",
        "vector"
      ],
      "metadata": {
        "colab": {
          "base_uri": "https://localhost:8080/"
        },
        "id": "hW3yW6vYEF-i",
        "outputId": "b8b587ff-67b0-4f02-bd17-49739f7cb876"
      },
      "execution_count": 5,
      "outputs": [
        {
          "output_type": "execute_result",
          "data": {
            "text/plain": [
              "tensor([7, 7])"
            ]
          },
          "metadata": {},
          "execution_count": 5
        }
      ]
    },
    {
      "cell_type": "code",
      "source": [
        "vector.ndim"
      ],
      "metadata": {
        "colab": {
          "base_uri": "https://localhost:8080/"
        },
        "id": "6LnztgjEEQQK",
        "outputId": "9a741d29-4d39-4ab2-a1c0-a55244cbb7a2"
      },
      "execution_count": 6,
      "outputs": [
        {
          "output_type": "execute_result",
          "data": {
            "text/plain": [
              "1"
            ]
          },
          "metadata": {},
          "execution_count": 6
        }
      ]
    },
    {
      "cell_type": "code",
      "source": [
        "vector.shape"
      ],
      "metadata": {
        "colab": {
          "base_uri": "https://localhost:8080/"
        },
        "id": "WP04aK9CEb36",
        "outputId": "633b38a3-a127-4622-defc-b2a6a7f01066"
      },
      "execution_count": 7,
      "outputs": [
        {
          "output_type": "execute_result",
          "data": {
            "text/plain": [
              "torch.Size([2])"
            ]
          },
          "metadata": {},
          "execution_count": 7
        }
      ]
    },
    {
      "cell_type": "code",
      "source": [
        "MATRIX = torch.tensor(\n",
        "    [\n",
        "        [7,10],\n",
        "        [10,2]\n",
        "    ]\n",
        ")\n",
        "MATRIX"
      ],
      "metadata": {
        "colab": {
          "base_uri": "https://localhost:8080/"
        },
        "id": "RfciZQW7Eott",
        "outputId": "2c5172cb-7c2d-42ce-81ca-87e81036ff4a"
      },
      "execution_count": 8,
      "outputs": [
        {
          "output_type": "execute_result",
          "data": {
            "text/plain": [
              "tensor([[ 7, 10],\n",
              "        [10,  2]])"
            ]
          },
          "metadata": {},
          "execution_count": 8
        }
      ]
    },
    {
      "cell_type": "code",
      "source": [
        "tensor = torch.tensor([\n",
        "    [7,5,6],\n",
        "    [8,5,3,],\n",
        "    [7,5,3]\n",
        "])\n",
        "tensor"
      ],
      "metadata": {
        "colab": {
          "base_uri": "https://localhost:8080/"
        },
        "id": "6Z62UZhgFKei",
        "outputId": "ab16a08e-79b4-4553-ecf6-a6b489f6f121"
      },
      "execution_count": 9,
      "outputs": [
        {
          "output_type": "execute_result",
          "data": {
            "text/plain": [
              "tensor([[7, 5, 6],\n",
              "        [8, 5, 3],\n",
              "        [7, 5, 3]])"
            ]
          },
          "metadata": {},
          "execution_count": 9
        }
      ]
    },
    {
      "cell_type": "code",
      "source": [
        "TENSOR = torch.tensor([[\n",
        "                        [7,8,5],\n",
        "                        [1,5,9],\n",
        "                        [4,7,3]]])"
      ],
      "metadata": {
        "id": "rVfhxrxKFgWP"
      },
      "execution_count": 10,
      "outputs": []
    },
    {
      "cell_type": "code",
      "source": [
        "TENSOR.ndim"
      ],
      "metadata": {
        "colab": {
          "base_uri": "https://localhost:8080/"
        },
        "id": "ZPVkITz7MJiT",
        "outputId": "c3369a0a-d2c9-4ab1-e124-7d7bbdcf6c26"
      },
      "execution_count": 11,
      "outputs": [
        {
          "output_type": "execute_result",
          "data": {
            "text/plain": [
              "3"
            ]
          },
          "metadata": {},
          "execution_count": 11
        }
      ]
    },
    {
      "cell_type": "code",
      "source": [
        "TENSOR.shape"
      ],
      "metadata": {
        "colab": {
          "base_uri": "https://localhost:8080/"
        },
        "id": "6LcMsruMMQyb",
        "outputId": "10ef28a0-faf2-4408-fee9-789505a5e124"
      },
      "execution_count": 12,
      "outputs": [
        {
          "output_type": "execute_result",
          "data": {
            "text/plain": [
              "torch.Size([1, 3, 3])"
            ]
          },
          "metadata": {},
          "execution_count": 12
        }
      ]
    },
    {
      "cell_type": "code",
      "source": [
        "random_tensor = torch.rand(size=(3,4))\n",
        "random_tensor, random_tensor.dtype"
      ],
      "metadata": {
        "colab": {
          "base_uri": "https://localhost:8080/"
        },
        "id": "niJDIpNGNO47",
        "outputId": "f591b4e5-5fa4-4bc0-ab00-7056a439a48a"
      },
      "execution_count": 13,
      "outputs": [
        {
          "output_type": "execute_result",
          "data": {
            "text/plain": [
              "(tensor([[0.1666, 0.0592, 0.6235, 0.5974],\n",
              "         [0.1226, 0.1211, 0.4415, 0.5985],\n",
              "         [0.7088, 0.4920, 0.6292, 0.4431]]), torch.float32)"
            ]
          },
          "metadata": {},
          "execution_count": 13
        }
      ]
    },
    {
      "cell_type": "code",
      "source": [
        "random_image_size_tensor = torch.rand(size=(224,224,33))\n",
        "random_image_size_tensor, random_image_size_tensor.dtype"
      ],
      "metadata": {
        "colab": {
          "base_uri": "https://localhost:8080/"
        },
        "id": "gtJdVI80Nxsm",
        "outputId": "751a6da8-cbff-47fe-9d60-9b4f0a72288a"
      },
      "execution_count": 14,
      "outputs": [
        {
          "output_type": "execute_result",
          "data": {
            "text/plain": [
              "(tensor([[[9.7423e-01, 7.8832e-01, 6.8238e-01,  ..., 6.7981e-01,\n",
              "           4.0531e-01, 3.3920e-01],\n",
              "          [6.6639e-01, 4.7433e-01, 8.7675e-01,  ..., 8.8675e-02,\n",
              "           8.2285e-01, 3.1203e-01],\n",
              "          [1.9384e-01, 5.1993e-02, 3.7524e-01,  ..., 4.9082e-02,\n",
              "           1.6351e-01, 6.5129e-01],\n",
              "          ...,\n",
              "          [9.4487e-01, 8.7310e-01, 5.7012e-01,  ..., 2.7656e-01,\n",
              "           6.4755e-01, 9.8880e-01],\n",
              "          [9.7728e-01, 6.0544e-01, 6.0734e-01,  ..., 1.9941e-01,\n",
              "           5.1668e-01, 6.7203e-01],\n",
              "          [7.4883e-01, 7.3543e-01, 8.8841e-01,  ..., 8.2778e-01,\n",
              "           1.9318e-01, 3.0338e-01]],\n",
              " \n",
              "         [[1.7315e-01, 7.8370e-01, 6.4189e-01,  ..., 1.1707e-01,\n",
              "           5.9972e-01, 9.8011e-01],\n",
              "          [5.2262e-02, 5.6318e-01, 9.3476e-01,  ..., 1.8981e-01,\n",
              "           9.1142e-01, 2.2175e-02],\n",
              "          [7.6835e-01, 3.2948e-01, 7.6888e-01,  ..., 7.5329e-01,\n",
              "           3.3948e-01, 2.7292e-01],\n",
              "          ...,\n",
              "          [7.9135e-02, 9.4033e-01, 5.2930e-01,  ..., 9.9557e-01,\n",
              "           5.5314e-01, 5.2582e-01],\n",
              "          [5.1389e-01, 6.6608e-01, 7.9357e-03,  ..., 4.9952e-01,\n",
              "           5.6364e-01, 9.0308e-01],\n",
              "          [7.0152e-03, 1.8695e-01, 6.3779e-01,  ..., 6.4544e-01,\n",
              "           8.2656e-02, 4.1597e-02]],\n",
              " \n",
              "         [[7.4409e-01, 8.3274e-01, 3.3867e-01,  ..., 6.8853e-01,\n",
              "           2.8262e-02, 4.5042e-01],\n",
              "          [2.9440e-01, 2.5610e-02, 2.8683e-01,  ..., 7.6980e-01,\n",
              "           1.6175e-01, 8.5279e-01],\n",
              "          [7.2321e-01, 2.0006e-01, 5.2237e-01,  ..., 2.4883e-01,\n",
              "           3.2121e-01, 5.4642e-01],\n",
              "          ...,\n",
              "          [1.5404e-01, 3.6032e-01, 1.2640e-01,  ..., 7.4323e-01,\n",
              "           8.7900e-01, 8.0837e-01],\n",
              "          [8.2828e-02, 8.7953e-01, 8.2354e-01,  ..., 6.6020e-01,\n",
              "           9.4527e-01, 1.4796e-01],\n",
              "          [9.8193e-01, 9.9817e-01, 5.4759e-02,  ..., 1.3372e-01,\n",
              "           9.6717e-01, 5.7339e-01]],\n",
              " \n",
              "         ...,\n",
              " \n",
              "         [[4.2576e-01, 6.6503e-01, 2.9946e-01,  ..., 9.2683e-01,\n",
              "           5.1949e-01, 9.1900e-01],\n",
              "          [7.4528e-01, 8.7042e-01, 7.4011e-01,  ..., 6.8303e-01,\n",
              "           3.9441e-01, 7.3315e-01],\n",
              "          [3.4712e-01, 4.6882e-01, 4.8997e-01,  ..., 9.5971e-01,\n",
              "           4.9745e-01, 8.7164e-01],\n",
              "          ...,\n",
              "          [1.2655e-01, 2.1607e-01, 3.4865e-01,  ..., 4.4322e-01,\n",
              "           5.3704e-02, 8.6769e-01],\n",
              "          [8.2395e-01, 5.6962e-01, 4.6264e-01,  ..., 2.5374e-01,\n",
              "           4.0217e-01, 9.0907e-01],\n",
              "          [2.9996e-01, 9.6212e-01, 1.3337e-01,  ..., 8.4787e-01,\n",
              "           8.8938e-01, 2.4772e-01]],\n",
              " \n",
              "         [[3.6640e-01, 8.5719e-01, 7.1031e-01,  ..., 1.1425e-01,\n",
              "           4.7733e-01, 4.2521e-01],\n",
              "          [5.1904e-01, 3.6108e-01, 5.1228e-01,  ..., 8.6333e-01,\n",
              "           4.6326e-01, 7.2639e-01],\n",
              "          [6.1128e-01, 7.2724e-02, 2.6917e-03,  ..., 5.9976e-01,\n",
              "           3.6696e-01, 2.1873e-01],\n",
              "          ...,\n",
              "          [3.8145e-02, 6.6306e-01, 8.7069e-01,  ..., 7.9671e-01,\n",
              "           1.7641e-01, 6.4315e-01],\n",
              "          [3.0751e-01, 1.5985e-01, 2.9464e-01,  ..., 5.6628e-01,\n",
              "           5.5996e-01, 6.0193e-01],\n",
              "          [3.6598e-01, 8.1762e-01, 1.2892e-01,  ..., 2.9082e-01,\n",
              "           5.5927e-04, 5.6712e-01]],\n",
              " \n",
              "         [[7.5881e-01, 1.2968e-01, 3.4135e-01,  ..., 7.8254e-01,\n",
              "           5.6049e-01, 5.5772e-01],\n",
              "          [2.1900e-01, 3.4040e-01, 4.8430e-01,  ..., 6.8288e-01,\n",
              "           7.4779e-01, 9.5949e-01],\n",
              "          [4.8319e-01, 9.2014e-01, 8.6484e-01,  ..., 8.8477e-01,\n",
              "           3.0934e-01, 2.9683e-01],\n",
              "          ...,\n",
              "          [2.2573e-01, 1.3542e-01, 2.8428e-01,  ..., 9.1372e-01,\n",
              "           4.8518e-02, 4.6939e-01],\n",
              "          [4.7090e-01, 9.3332e-01, 9.8002e-01,  ..., 8.7357e-01,\n",
              "           7.7913e-01, 5.1752e-02],\n",
              "          [1.4766e-01, 9.0623e-01, 5.1945e-01,  ..., 5.2040e-01,\n",
              "           6.4197e-01, 6.9001e-01]]]), torch.float32)"
            ]
          },
          "metadata": {},
          "execution_count": 14
        }
      ]
    },
    {
      "cell_type": "code",
      "source": [
        "zeros = torch.zeros(size = (224,224,3))\n",
        "zeros, zeros.dtype"
      ],
      "metadata": {
        "colab": {
          "base_uri": "https://localhost:8080/"
        },
        "id": "Ih564R2_N90D",
        "outputId": "d7db9b65-2a64-43f3-a1f6-7540c0570b74"
      },
      "execution_count": 15,
      "outputs": [
        {
          "output_type": "execute_result",
          "data": {
            "text/plain": [
              "(tensor([[[0., 0., 0.],\n",
              "          [0., 0., 0.],\n",
              "          [0., 0., 0.],\n",
              "          ...,\n",
              "          [0., 0., 0.],\n",
              "          [0., 0., 0.],\n",
              "          [0., 0., 0.]],\n",
              " \n",
              "         [[0., 0., 0.],\n",
              "          [0., 0., 0.],\n",
              "          [0., 0., 0.],\n",
              "          ...,\n",
              "          [0., 0., 0.],\n",
              "          [0., 0., 0.],\n",
              "          [0., 0., 0.]],\n",
              " \n",
              "         [[0., 0., 0.],\n",
              "          [0., 0., 0.],\n",
              "          [0., 0., 0.],\n",
              "          ...,\n",
              "          [0., 0., 0.],\n",
              "          [0., 0., 0.],\n",
              "          [0., 0., 0.]],\n",
              " \n",
              "         ...,\n",
              " \n",
              "         [[0., 0., 0.],\n",
              "          [0., 0., 0.],\n",
              "          [0., 0., 0.],\n",
              "          ...,\n",
              "          [0., 0., 0.],\n",
              "          [0., 0., 0.],\n",
              "          [0., 0., 0.]],\n",
              " \n",
              "         [[0., 0., 0.],\n",
              "          [0., 0., 0.],\n",
              "          [0., 0., 0.],\n",
              "          ...,\n",
              "          [0., 0., 0.],\n",
              "          [0., 0., 0.],\n",
              "          [0., 0., 0.]],\n",
              " \n",
              "         [[0., 0., 0.],\n",
              "          [0., 0., 0.],\n",
              "          [0., 0., 0.],\n",
              "          ...,\n",
              "          [0., 0., 0.],\n",
              "          [0., 0., 0.],\n",
              "          [0., 0., 0.]]]), torch.float32)"
            ]
          },
          "metadata": {},
          "execution_count": 15
        }
      ]
    },
    {
      "cell_type": "code",
      "source": [
        "ones = torch.ones(size = (224,224,3))\n",
        "ones, ones.dtype"
      ],
      "metadata": {
        "colab": {
          "base_uri": "https://localhost:8080/"
        },
        "id": "72TefvaoOKdT",
        "outputId": "4c4afbf7-3ea7-4ee7-835d-4b0c18ae62dc"
      },
      "execution_count": 16,
      "outputs": [
        {
          "output_type": "execute_result",
          "data": {
            "text/plain": [
              "(tensor([[[1., 1., 1.],\n",
              "          [1., 1., 1.],\n",
              "          [1., 1., 1.],\n",
              "          ...,\n",
              "          [1., 1., 1.],\n",
              "          [1., 1., 1.],\n",
              "          [1., 1., 1.]],\n",
              " \n",
              "         [[1., 1., 1.],\n",
              "          [1., 1., 1.],\n",
              "          [1., 1., 1.],\n",
              "          ...,\n",
              "          [1., 1., 1.],\n",
              "          [1., 1., 1.],\n",
              "          [1., 1., 1.]],\n",
              " \n",
              "         [[1., 1., 1.],\n",
              "          [1., 1., 1.],\n",
              "          [1., 1., 1.],\n",
              "          ...,\n",
              "          [1., 1., 1.],\n",
              "          [1., 1., 1.],\n",
              "          [1., 1., 1.]],\n",
              " \n",
              "         ...,\n",
              " \n",
              "         [[1., 1., 1.],\n",
              "          [1., 1., 1.],\n",
              "          [1., 1., 1.],\n",
              "          ...,\n",
              "          [1., 1., 1.],\n",
              "          [1., 1., 1.],\n",
              "          [1., 1., 1.]],\n",
              " \n",
              "         [[1., 1., 1.],\n",
              "          [1., 1., 1.],\n",
              "          [1., 1., 1.],\n",
              "          ...,\n",
              "          [1., 1., 1.],\n",
              "          [1., 1., 1.],\n",
              "          [1., 1., 1.]],\n",
              " \n",
              "         [[1., 1., 1.],\n",
              "          [1., 1., 1.],\n",
              "          [1., 1., 1.],\n",
              "          ...,\n",
              "          [1., 1., 1.],\n",
              "          [1., 1., 1.],\n",
              "          [1., 1., 1.]]]), torch.float32)"
            ]
          },
          "metadata": {},
          "execution_count": 16
        }
      ]
    },
    {
      "cell_type": "code",
      "source": [
        "zero_to_ten = torch.arange(start = 0,end = 10,step = 1)\n",
        "zero_to_ten"
      ],
      "metadata": {
        "colab": {
          "base_uri": "https://localhost:8080/"
        },
        "id": "aDintz95Obn8",
        "outputId": "ef1279a1-cdad-4d19-b772-0a3171365708"
      },
      "execution_count": 17,
      "outputs": [
        {
          "output_type": "execute_result",
          "data": {
            "text/plain": [
              "tensor([0, 1, 2, 3, 4, 5, 6, 7, 8, 9])"
            ]
          },
          "metadata": {},
          "execution_count": 17
        }
      ]
    },
    {
      "cell_type": "code",
      "source": [
        "ten_zeros_like = torch.zeros_like(input = zero_to_ten)\n",
        "ten_zeros_like"
      ],
      "metadata": {
        "colab": {
          "base_uri": "https://localhost:8080/"
        },
        "id": "0ljRQ4KAPVAx",
        "outputId": "e1ecd9c9-0827-4c8b-c352-de6bbbc94873"
      },
      "execution_count": 18,
      "outputs": [
        {
          "output_type": "execute_result",
          "data": {
            "text/plain": [
              "tensor([0, 0, 0, 0, 0, 0, 0, 0, 0, 0])"
            ]
          },
          "metadata": {},
          "execution_count": 18
        }
      ]
    },
    {
      "cell_type": "code",
      "source": [
        "float_32_tensor = torch.tensor([3.0,6.0,9.0],device=None,dtype=None,requires_grad=False)\n",
        "float_32_tensor , float_32_tensor.dtype, float_32_tensor.device"
      ],
      "metadata": {
        "colab": {
          "base_uri": "https://localhost:8080/"
        },
        "id": "NMZEQLgcjDou",
        "outputId": "34af9cd9-74b4-4459-f7e0-3933a34d2094"
      },
      "execution_count": 19,
      "outputs": [
        {
          "output_type": "execute_result",
          "data": {
            "text/plain": [
              "(tensor([3., 6., 9.]), torch.float32, device(type='cpu'))"
            ]
          },
          "metadata": {},
          "execution_count": 19
        }
      ]
    },
    {
      "cell_type": "code",
      "source": [
        "float_16_tensor = torch.tensor([3.0,6.,9.0],dtype = torch.float16)\n",
        "float_16_tensor, float_16_tensor.dtype"
      ],
      "metadata": {
        "colab": {
          "base_uri": "https://localhost:8080/"
        },
        "id": "HTl9Eihhjzoo",
        "outputId": "7fa65705-54eb-4116-bcc8-f5515a5d0e74"
      },
      "execution_count": 20,
      "outputs": [
        {
          "output_type": "execute_result",
          "data": {
            "text/plain": [
              "(tensor([3., 6., 9.], dtype=torch.float16), torch.float16)"
            ]
          },
          "metadata": {},
          "execution_count": 20
        }
      ]
    },
    {
      "cell_type": "code",
      "source": [
        "some_tensor = torch.rand(size = (3,4))\n",
        "\n",
        "print(some_tensor)\n",
        "print(f\"The device type of the tensor is {some_tensor.device}\")\n",
        "print(f\"The dtype of the tensor is {some_tensor.dtype}\")\n",
        "print(f\"The shape of the tensor is {some_tensor.shape}\")"
      ],
      "metadata": {
        "colab": {
          "base_uri": "https://localhost:8080/"
        },
        "id": "9HLrlt5Skqxk",
        "outputId": "77226073-72ca-4d32-df28-517fdcdfada2"
      },
      "execution_count": 21,
      "outputs": [
        {
          "output_type": "stream",
          "name": "stdout",
          "text": [
            "tensor([[0.2080, 0.6761, 0.2948, 0.0507],\n",
            "        [0.6116, 0.3612, 0.1766, 0.3180],\n",
            "        [0.5817, 0.5122, 0.2423, 0.1905]])\n",
            "The device type of the tensor is cpu\n",
            "The dtype of the tensor is torch.float32\n",
            "The shape of the tensor is torch.Size([3, 4])\n"
          ]
        }
      ]
    },
    {
      "cell_type": "code",
      "source": [
        "tensor = torch.tensor([2.0,7.0,1.0])\n",
        "tensor"
      ],
      "metadata": {
        "colab": {
          "base_uri": "https://localhost:8080/"
        },
        "id": "ClGkay9ylOS3",
        "outputId": "932d34c3-4512-4299-9a3e-761c2a977771"
      },
      "execution_count": 22,
      "outputs": [
        {
          "output_type": "execute_result",
          "data": {
            "text/plain": [
              "tensor([2., 7., 1.])"
            ]
          },
          "metadata": {},
          "execution_count": 22
        }
      ]
    },
    {
      "cell_type": "code",
      "source": [
        "tensor+1"
      ],
      "metadata": {
        "colab": {
          "base_uri": "https://localhost:8080/"
        },
        "id": "1E2Vl8CYlXSj",
        "outputId": "426b7b50-8c94-4b27-b415-598fec2a02ce"
      },
      "execution_count": 23,
      "outputs": [
        {
          "output_type": "execute_result",
          "data": {
            "text/plain": [
              "tensor([3., 8., 2.])"
            ]
          },
          "metadata": {},
          "execution_count": 23
        }
      ]
    },
    {
      "cell_type": "code",
      "source": [
        "tensor*10"
      ],
      "metadata": {
        "colab": {
          "base_uri": "https://localhost:8080/"
        },
        "id": "c07_SADvlZ2V",
        "outputId": "344d40d9-8a48-448e-dfda-3bb5b61e7e97"
      },
      "execution_count": 24,
      "outputs": [
        {
          "output_type": "execute_result",
          "data": {
            "text/plain": [
              "tensor([20., 70., 10.])"
            ]
          },
          "metadata": {},
          "execution_count": 24
        }
      ]
    },
    {
      "cell_type": "code",
      "source": [
        "tensor/5"
      ],
      "metadata": {
        "colab": {
          "base_uri": "https://localhost:8080/"
        },
        "id": "QplFjYv_lcd9",
        "outputId": "dacfbd3c-775e-40de-d919-0144d7244097"
      },
      "execution_count": 25,
      "outputs": [
        {
          "output_type": "execute_result",
          "data": {
            "text/plain": [
              "tensor([0.4000, 1.4000, 0.2000])"
            ]
          },
          "metadata": {},
          "execution_count": 25
        }
      ]
    },
    {
      "cell_type": "code",
      "source": [
        "torch.multiply(tensor,50)"
      ],
      "metadata": {
        "colab": {
          "base_uri": "https://localhost:8080/"
        },
        "id": "oNEAIcaylmSO",
        "outputId": "22464efc-3aa3-4028-b5e3-12bdb2326bb4"
      },
      "execution_count": 26,
      "outputs": [
        {
          "output_type": "execute_result",
          "data": {
            "text/plain": [
              "tensor([100., 350.,  50.])"
            ]
          },
          "metadata": {},
          "execution_count": 26
        }
      ]
    },
    {
      "cell_type": "code",
      "source": [
        "torch.add(tensor,4)"
      ],
      "metadata": {
        "colab": {
          "base_uri": "https://localhost:8080/"
        },
        "id": "heyMiwvRlqnF",
        "outputId": "a7790ae3-34eb-4d24-e993-bcd70e88faae"
      },
      "execution_count": 27,
      "outputs": [
        {
          "output_type": "execute_result",
          "data": {
            "text/plain": [
              "tensor([ 6., 11.,  5.])"
            ]
          },
          "metadata": {},
          "execution_count": 27
        }
      ]
    },
    {
      "cell_type": "code",
      "source": [
        "print(f\"{tensor}*{tensor}\")\n",
        "print(torch.mul(tensor,tensor))"
      ],
      "metadata": {
        "colab": {
          "base_uri": "https://localhost:8080/"
        },
        "id": "l20GS7b2l3H9",
        "outputId": "afb89c54-8729-4b4d-dd25-e4f2701e2d87"
      },
      "execution_count": 28,
      "outputs": [
        {
          "output_type": "stream",
          "name": "stdout",
          "text": [
            "tensor([2., 7., 1.])*tensor([2., 7., 1.])\n",
            "tensor([ 4., 49.,  1.])\n"
          ]
        }
      ]
    },
    {
      "cell_type": "code",
      "source": [
        "tensor = torch.tensor([1,2,3])\n",
        "tensor"
      ],
      "metadata": {
        "colab": {
          "base_uri": "https://localhost:8080/"
        },
        "id": "J0FyEB7CnN_d",
        "outputId": "f26ac28e-319e-4dc3-b4c8-25335c379fce"
      },
      "execution_count": 29,
      "outputs": [
        {
          "output_type": "execute_result",
          "data": {
            "text/plain": [
              "tensor([1, 2, 3])"
            ]
          },
          "metadata": {},
          "execution_count": 29
        }
      ]
    },
    {
      "cell_type": "code",
      "source": [
        "torch.matmul(tensor,tensor)"
      ],
      "metadata": {
        "colab": {
          "base_uri": "https://localhost:8080/"
        },
        "id": "Ldrx-EIAnUrL",
        "outputId": "02c319ac-688e-41e5-8b55-7799e9f58d10"
      },
      "execution_count": 30,
      "outputs": [
        {
          "output_type": "execute_result",
          "data": {
            "text/plain": [
              "tensor(14)"
            ]
          },
          "metadata": {},
          "execution_count": 30
        }
      ]
    },
    {
      "cell_type": "code",
      "source": [
        "tensor_A = torch.tensor([[1,2],\n",
        "                         [2,3],\n",
        "                         [3,4]])"
      ],
      "metadata": {
        "id": "j9Qljv13n3R7"
      },
      "execution_count": 31,
      "outputs": []
    },
    {
      "cell_type": "code",
      "source": [
        "tensor_B = torch.tensor([[5,6],\n",
        "                         [7,2],\n",
        "                         [3,9]])"
      ],
      "metadata": {
        "id": "BjQkkHVLoDg1"
      },
      "execution_count": 32,
      "outputs": []
    },
    {
      "cell_type": "code",
      "source": [
        "#torch.matmul(tensor_A,tensor_B)"
      ],
      "metadata": {
        "colab": {
          "base_uri": "https://localhost:8080/",
          "height": 171
        },
        "id": "8HD_q-spoNUJ",
        "outputId": "be3346b1-6887-4414-f4e6-95bd220b62c7"
      },
      "execution_count": 33,
      "outputs": [
        {
          "output_type": "error",
          "ename": "RuntimeError",
          "evalue": "ignored",
          "traceback": [
            "\u001b[0;31m---------------------------------------------------------------------------\u001b[0m",
            "\u001b[0;31mRuntimeError\u001b[0m                              Traceback (most recent call last)",
            "\u001b[0;32m<ipython-input-33-9dde1cb2f945>\u001b[0m in \u001b[0;36m<module>\u001b[0;34m\u001b[0m\n\u001b[0;32m----> 1\u001b[0;31m \u001b[0mtorch\u001b[0m\u001b[0;34m.\u001b[0m\u001b[0mmatmul\u001b[0m\u001b[0;34m(\u001b[0m\u001b[0mtensor_A\u001b[0m\u001b[0;34m,\u001b[0m\u001b[0mtensor_B\u001b[0m\u001b[0;34m)\u001b[0m\u001b[0;34m\u001b[0m\u001b[0;34m\u001b[0m\u001b[0m\n\u001b[0m",
            "\u001b[0;31mRuntimeError\u001b[0m: mat1 and mat2 shapes cannot be multiplied (3x2 and 3x2)"
          ]
        }
      ]
    },
    {
      "cell_type": "code",
      "source": [
        "tensor_A.T"
      ],
      "metadata": {
        "colab": {
          "base_uri": "https://localhost:8080/"
        },
        "id": "V8M-jvg9pSz0",
        "outputId": "1dc3d203-43ae-4281-8eb4-7d7449bc4061"
      },
      "execution_count": 34,
      "outputs": [
        {
          "output_type": "execute_result",
          "data": {
            "text/plain": [
              "tensor([[1, 2, 3],\n",
              "        [2, 3, 4]])"
            ]
          },
          "metadata": {},
          "execution_count": 34
        }
      ]
    },
    {
      "cell_type": "code",
      "source": [
        "torch.matmul(tensor_A,tensor_B.T)"
      ],
      "metadata": {
        "colab": {
          "base_uri": "https://localhost:8080/"
        },
        "id": "4QHPJzU5pZWM",
        "outputId": "104c7b07-b69e-49ba-8419-52fac9bb53ed"
      },
      "execution_count": 35,
      "outputs": [
        {
          "output_type": "execute_result",
          "data": {
            "text/plain": [
              "tensor([[17, 11, 21],\n",
              "        [28, 20, 33],\n",
              "        [39, 29, 45]])"
            ]
          },
          "metadata": {},
          "execution_count": 35
        }
      ]
    },
    {
      "cell_type": "code",
      "source": [
        "print(f\"The Original shape is {tensor_A.shape} and the transformed shape is {tensor_A.T.shape}\")"
      ],
      "metadata": {
        "colab": {
          "base_uri": "https://localhost:8080/"
        },
        "id": "5jfTJgpisJQu",
        "outputId": "d87508d2-aa12-4ef1-e91d-a826f4c12a9e"
      },
      "execution_count": 36,
      "outputs": [
        {
          "output_type": "stream",
          "name": "stdout",
          "text": [
            "The Original shape is torch.Size([3, 2]) and the transformed shape is torch.Size([2, 3])\n"
          ]
        }
      ]
    },
    {
      "cell_type": "code",
      "source": [
        "torch.mm(tensor_A,tensor_A.T)"
      ],
      "metadata": {
        "colab": {
          "base_uri": "https://localhost:8080/"
        },
        "id": "WnufXegksrCN",
        "outputId": "65e6cb8f-7526-4d49-91e5-9501d8024ea9"
      },
      "execution_count": 37,
      "outputs": [
        {
          "output_type": "execute_result",
          "data": {
            "text/plain": [
              "tensor([[ 5,  8, 11],\n",
              "        [ 8, 13, 18],\n",
              "        [11, 18, 25]])"
            ]
          },
          "metadata": {},
          "execution_count": 37
        }
      ]
    },
    {
      "cell_type": "code",
      "source": [
        "torch.manual_seed(42)\n",
        "\n",
        "tensor_A = torch.tensor([[1, 2],\n",
        "                         [3, 4],\n",
        "                         [5, 6]], dtype=torch.float32)\n",
        "\n",
        "linear = torch.nn.Linear(\n",
        "    in_features = 2,\n",
        "    out_features = 6\n",
        ")\n",
        "\n",
        "x = tensor_A\n",
        "\n",
        "output = linear(x)\n",
        "\n",
        "print(x.shape, tensor_A.shape)\n",
        "\n",
        "print(output, output.shape)"
      ],
      "metadata": {
        "id": "XZ18KplItYEf",
        "colab": {
          "base_uri": "https://localhost:8080/"
        },
        "outputId": "ff03054a-84d6-44d4-b8a1-8001d2cf27fc"
      },
      "execution_count": 40,
      "outputs": [
        {
          "output_type": "stream",
          "name": "stdout",
          "text": [
            "torch.Size([3, 2]) torch.Size([3, 2])\n",
            "tensor([[2.2368, 1.2292, 0.4714, 0.3864, 0.1309, 0.9838],\n",
            "        [4.4919, 2.1970, 0.4469, 0.5285, 0.3401, 2.4777],\n",
            "        [6.7469, 3.1648, 0.4224, 0.6705, 0.5493, 3.9716]],\n",
            "       grad_fn=<AddmmBackward0>) torch.Size([3, 6])\n"
          ]
        }
      ]
    }
  ]
}