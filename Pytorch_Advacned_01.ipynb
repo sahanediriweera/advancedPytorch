{
  "nbformat": 4,
  "nbformat_minor": 0,
  "metadata": {
    "colab": {
      "provenance": [],
      "authorship_tag": "ABX9TyP0dFk/x3lXpcKh7VbFOi9w",
      "include_colab_link": true
    },
    "kernelspec": {
      "name": "python3",
      "display_name": "Python 3"
    },
    "language_info": {
      "name": "python"
    }
  },
  "cells": [
    {
      "cell_type": "markdown",
      "metadata": {
        "id": "view-in-github",
        "colab_type": "text"
      },
      "source": [
        "<a href=\"https://colab.research.google.com/github/sahanediriweera/advancedPytorch/blob/main/Pytorch_Advacned_01.ipynb\" target=\"_parent\"><img src=\"https://colab.research.google.com/assets/colab-badge.svg\" alt=\"Open In Colab\"/></a>"
      ]
    },
    {
      "cell_type": "code",
      "source": [
        "import torch\n",
        "torch.__version__"
      ],
      "metadata": {
        "colab": {
          "base_uri": "https://localhost:8080/",
          "height": 36
        },
        "id": "BpO_9xHICbxK",
        "outputId": "6df0c256-45c2-4e83-b7b0-b18ce55f654b"
      },
      "execution_count": 21,
      "outputs": [
        {
          "output_type": "execute_result",
          "data": {
            "text/plain": [
              "'1.13.1+cu116'"
            ],
            "application/vnd.google.colaboratory.intrinsic+json": {
              "type": "string"
            }
          },
          "metadata": {},
          "execution_count": 21
        }
      ]
    },
    {
      "cell_type": "code",
      "source": [
        "scalar = torch.tensor(7)\n",
        "scalar"
      ],
      "metadata": {
        "colab": {
          "base_uri": "https://localhost:8080/"
        },
        "id": "pQbNacfxDsIw",
        "outputId": "5c156d75-742b-4ed8-accd-fb24e7ec2c92"
      },
      "execution_count": 22,
      "outputs": [
        {
          "output_type": "execute_result",
          "data": {
            "text/plain": [
              "tensor(7)"
            ]
          },
          "metadata": {},
          "execution_count": 22
        }
      ]
    },
    {
      "cell_type": "code",
      "source": [
        "scalar.ndim"
      ],
      "metadata": {
        "colab": {
          "base_uri": "https://localhost:8080/"
        },
        "id": "Wg2cDhFFD5Ja",
        "outputId": "6ab152f1-9f3c-42d9-c7ee-a7b72413b810"
      },
      "execution_count": 23,
      "outputs": [
        {
          "output_type": "execute_result",
          "data": {
            "text/plain": [
              "0"
            ]
          },
          "metadata": {},
          "execution_count": 23
        }
      ]
    },
    {
      "cell_type": "code",
      "source": [
        "scalar.item()"
      ],
      "metadata": {
        "colab": {
          "base_uri": "https://localhost:8080/"
        },
        "id": "PbPPH4oeD-oC",
        "outputId": "d8d1b7fd-51d5-4b1a-abe8-eb1631d216dd"
      },
      "execution_count": 24,
      "outputs": [
        {
          "output_type": "execute_result",
          "data": {
            "text/plain": [
              "7"
            ]
          },
          "metadata": {},
          "execution_count": 24
        }
      ]
    },
    {
      "cell_type": "code",
      "source": [
        "vector = torch.tensor([7,7])\n",
        "vector"
      ],
      "metadata": {
        "colab": {
          "base_uri": "https://localhost:8080/"
        },
        "id": "hW3yW6vYEF-i",
        "outputId": "274c159a-fe68-4e63-bebc-85fc1397bc6b"
      },
      "execution_count": 25,
      "outputs": [
        {
          "output_type": "execute_result",
          "data": {
            "text/plain": [
              "tensor([7, 7])"
            ]
          },
          "metadata": {},
          "execution_count": 25
        }
      ]
    },
    {
      "cell_type": "code",
      "source": [
        "vector.ndim"
      ],
      "metadata": {
        "colab": {
          "base_uri": "https://localhost:8080/"
        },
        "id": "6LnztgjEEQQK",
        "outputId": "acd4e732-5568-4e9c-e2dc-46d4de535f02"
      },
      "execution_count": 26,
      "outputs": [
        {
          "output_type": "execute_result",
          "data": {
            "text/plain": [
              "1"
            ]
          },
          "metadata": {},
          "execution_count": 26
        }
      ]
    },
    {
      "cell_type": "code",
      "source": [
        "vector.shape"
      ],
      "metadata": {
        "colab": {
          "base_uri": "https://localhost:8080/"
        },
        "id": "WP04aK9CEb36",
        "outputId": "2227a06b-fbe5-479c-f2ae-e82118f265af"
      },
      "execution_count": 27,
      "outputs": [
        {
          "output_type": "execute_result",
          "data": {
            "text/plain": [
              "torch.Size([2])"
            ]
          },
          "metadata": {},
          "execution_count": 27
        }
      ]
    },
    {
      "cell_type": "code",
      "source": [
        "MATRIX = torch.tensor(\n",
        "    [\n",
        "        [7,10],\n",
        "        [10,2]\n",
        "    ]\n",
        ")\n",
        "MATRIX"
      ],
      "metadata": {
        "colab": {
          "base_uri": "https://localhost:8080/"
        },
        "id": "RfciZQW7Eott",
        "outputId": "fb8ac24b-0293-4be0-e875-b64078ec87e6"
      },
      "execution_count": 28,
      "outputs": [
        {
          "output_type": "execute_result",
          "data": {
            "text/plain": [
              "tensor([[ 7, 10],\n",
              "        [10,  2]])"
            ]
          },
          "metadata": {},
          "execution_count": 28
        }
      ]
    },
    {
      "cell_type": "code",
      "source": [
        "tensor = torch.tensor([\n",
        "    [7,5,6],\n",
        "    [8,5,3,],\n",
        "    [7,5,3]\n",
        "])\n",
        "tensor"
      ],
      "metadata": {
        "colab": {
          "base_uri": "https://localhost:8080/"
        },
        "id": "6Z62UZhgFKei",
        "outputId": "5454c6b5-97aa-4a1d-8145-5f90d94ded3c"
      },
      "execution_count": 29,
      "outputs": [
        {
          "output_type": "execute_result",
          "data": {
            "text/plain": [
              "tensor([[7, 5, 6],\n",
              "        [8, 5, 3],\n",
              "        [7, 5, 3]])"
            ]
          },
          "metadata": {},
          "execution_count": 29
        }
      ]
    },
    {
      "cell_type": "code",
      "source": [
        "TENSOR = torch.tensor([[\n",
        "                        [7,8,5],\n",
        "                        [1,5,9],\n",
        "                        [4,7,3]]])"
      ],
      "metadata": {
        "id": "rVfhxrxKFgWP"
      },
      "execution_count": 30,
      "outputs": []
    },
    {
      "cell_type": "code",
      "source": [
        "TENSOR.ndim"
      ],
      "metadata": {
        "colab": {
          "base_uri": "https://localhost:8080/"
        },
        "id": "ZPVkITz7MJiT",
        "outputId": "5163ead9-e2eb-4809-dd66-b0ccc425d5e5"
      },
      "execution_count": 31,
      "outputs": [
        {
          "output_type": "execute_result",
          "data": {
            "text/plain": [
              "3"
            ]
          },
          "metadata": {},
          "execution_count": 31
        }
      ]
    },
    {
      "cell_type": "code",
      "source": [
        "TENSOR.shape"
      ],
      "metadata": {
        "colab": {
          "base_uri": "https://localhost:8080/"
        },
        "id": "6LcMsruMMQyb",
        "outputId": "dba13e44-a9f7-4c5a-dbaa-c1c9709e8959"
      },
      "execution_count": 32,
      "outputs": [
        {
          "output_type": "execute_result",
          "data": {
            "text/plain": [
              "torch.Size([1, 3, 3])"
            ]
          },
          "metadata": {},
          "execution_count": 32
        }
      ]
    },
    {
      "cell_type": "code",
      "source": [
        "random_tensor = torch.rand(size=(3,4))\n",
        "random_tensor, random_tensor.dtype"
      ],
      "metadata": {
        "colab": {
          "base_uri": "https://localhost:8080/"
        },
        "id": "niJDIpNGNO47",
        "outputId": "be258647-d386-4f31-dec7-73b5dc3792c9"
      },
      "execution_count": 33,
      "outputs": [
        {
          "output_type": "execute_result",
          "data": {
            "text/plain": [
              "(tensor([[0.7055, 0.8310, 0.1013, 0.6094],\n",
              "         [0.0175, 0.0891, 0.0530, 0.0450],\n",
              "         [0.3327, 0.3790, 0.3994, 0.4603]]), torch.float32)"
            ]
          },
          "metadata": {},
          "execution_count": 33
        }
      ]
    },
    {
      "cell_type": "code",
      "source": [
        "random_image_size_tensor = torch.rand(size=(224,224,33))\n",
        "random_image_size_tensor, random_image_size_tensor.dtype"
      ],
      "metadata": {
        "colab": {
          "base_uri": "https://localhost:8080/"
        },
        "id": "gtJdVI80Nxsm",
        "outputId": "ca31d353-6e5d-429b-d7e9-103528ef8e3d"
      },
      "execution_count": 34,
      "outputs": [
        {
          "output_type": "execute_result",
          "data": {
            "text/plain": [
              "(tensor([[[0.4708, 0.4304, 0.9254,  ..., 0.9263, 0.3512, 0.9781],\n",
              "          [0.2944, 0.3854, 0.4171,  ..., 0.7573, 0.1149, 0.8363],\n",
              "          [0.7722, 0.7770, 0.5786,  ..., 0.0629, 0.6459, 0.4011],\n",
              "          ...,\n",
              "          [0.5571, 0.3861, 0.0441,  ..., 0.5640, 0.7744, 0.7411],\n",
              "          [0.3133, 0.9749, 0.9366,  ..., 0.1762, 0.6639, 0.4291],\n",
              "          [0.9634, 0.3486, 0.4802,  ..., 0.1448, 0.3016, 0.4226]],\n",
              " \n",
              "         [[0.6079, 0.0705, 0.0079,  ..., 0.9134, 0.5375, 0.4339],\n",
              "          [0.6070, 0.4697, 0.8567,  ..., 0.6311, 0.2122, 0.8867],\n",
              "          [0.6890, 0.5222, 0.9369,  ..., 0.8804, 0.4838, 0.7637],\n",
              "          ...,\n",
              "          [0.4180, 0.2781, 0.7998,  ..., 0.5191, 0.8272, 0.5086],\n",
              "          [0.5555, 0.1248, 0.9527,  ..., 0.4497, 0.2065, 0.5525],\n",
              "          [0.3316, 0.3807, 0.4752,  ..., 0.0115, 0.0418, 0.8949]],\n",
              " \n",
              "         [[0.8449, 0.6974, 0.6810,  ..., 0.5829, 0.8896, 0.2632],\n",
              "          [0.9371, 0.1533, 0.6391,  ..., 0.0906, 0.1573, 0.7161],\n",
              "          [0.7147, 0.6644, 0.8001,  ..., 0.9654, 0.3505, 0.1434],\n",
              "          ...,\n",
              "          [0.8565, 0.3480, 0.6932,  ..., 0.8401, 0.8094, 0.8455],\n",
              "          [0.7785, 0.9547, 0.4188,  ..., 0.5308, 0.5753, 0.2816],\n",
              "          [0.4308, 0.4980, 0.5539,  ..., 0.1688, 0.1355, 0.6874]],\n",
              " \n",
              "         ...,\n",
              " \n",
              "         [[0.7587, 0.4987, 0.0695,  ..., 0.8961, 0.4503, 0.0358],\n",
              "          [0.5511, 0.7577, 0.4962,  ..., 0.0090, 0.9062, 0.1073],\n",
              "          [0.3287, 0.0682, 0.7658,  ..., 0.6794, 0.0261, 0.7421],\n",
              "          ...,\n",
              "          [0.8622, 0.6948, 0.2933,  ..., 0.6483, 0.9372, 0.6861],\n",
              "          [0.5710, 0.5786, 0.3779,  ..., 0.5556, 0.7100, 0.9981],\n",
              "          [0.2988, 0.2228, 0.6338,  ..., 0.5972, 0.5461, 0.6339]],\n",
              " \n",
              "         [[0.1798, 0.3469, 0.5742,  ..., 0.9752, 0.5354, 0.5873],\n",
              "          [0.4889, 0.2431, 0.8527,  ..., 0.1362, 0.7939, 0.4845],\n",
              "          [0.5206, 0.8582, 0.1314,  ..., 0.3014, 0.6511, 0.4463],\n",
              "          ...,\n",
              "          [0.7926, 0.3999, 0.5702,  ..., 0.5660, 0.7160, 0.4463],\n",
              "          [0.3590, 0.7716, 0.4768,  ..., 0.8442, 0.8565, 0.5093],\n",
              "          [0.0874, 0.1720, 0.9966,  ..., 0.9600, 0.1685, 0.9273]],\n",
              " \n",
              "         [[0.2730, 0.5847, 0.0651,  ..., 0.2003, 0.9684, 0.0561],\n",
              "          [0.4982, 0.6788, 0.5128,  ..., 0.1629, 0.2527, 0.8063],\n",
              "          [0.0605, 0.5987, 0.8628,  ..., 0.5726, 0.4383, 0.0249],\n",
              "          ...,\n",
              "          [0.3996, 0.2670, 0.9800,  ..., 0.5457, 0.0088, 0.9293],\n",
              "          [0.8531, 0.8324, 0.9514,  ..., 0.3610, 0.8438, 0.6905],\n",
              "          [0.7582, 0.3218, 0.9307,  ..., 0.0809, 0.7603, 0.5704]]]),\n",
              " torch.float32)"
            ]
          },
          "metadata": {},
          "execution_count": 34
        }
      ]
    },
    {
      "cell_type": "code",
      "source": [
        "zeros = torch.zeros(size = (224,224,3))\n",
        "zeros, zeros.dtype"
      ],
      "metadata": {
        "colab": {
          "base_uri": "https://localhost:8080/"
        },
        "id": "Ih564R2_N90D",
        "outputId": "ce72fdc5-ad11-4c29-eba7-cec78b1bbf8a"
      },
      "execution_count": 35,
      "outputs": [
        {
          "output_type": "execute_result",
          "data": {
            "text/plain": [
              "(tensor([[[0., 0., 0.],\n",
              "          [0., 0., 0.],\n",
              "          [0., 0., 0.],\n",
              "          ...,\n",
              "          [0., 0., 0.],\n",
              "          [0., 0., 0.],\n",
              "          [0., 0., 0.]],\n",
              " \n",
              "         [[0., 0., 0.],\n",
              "          [0., 0., 0.],\n",
              "          [0., 0., 0.],\n",
              "          ...,\n",
              "          [0., 0., 0.],\n",
              "          [0., 0., 0.],\n",
              "          [0., 0., 0.]],\n",
              " \n",
              "         [[0., 0., 0.],\n",
              "          [0., 0., 0.],\n",
              "          [0., 0., 0.],\n",
              "          ...,\n",
              "          [0., 0., 0.],\n",
              "          [0., 0., 0.],\n",
              "          [0., 0., 0.]],\n",
              " \n",
              "         ...,\n",
              " \n",
              "         [[0., 0., 0.],\n",
              "          [0., 0., 0.],\n",
              "          [0., 0., 0.],\n",
              "          ...,\n",
              "          [0., 0., 0.],\n",
              "          [0., 0., 0.],\n",
              "          [0., 0., 0.]],\n",
              " \n",
              "         [[0., 0., 0.],\n",
              "          [0., 0., 0.],\n",
              "          [0., 0., 0.],\n",
              "          ...,\n",
              "          [0., 0., 0.],\n",
              "          [0., 0., 0.],\n",
              "          [0., 0., 0.]],\n",
              " \n",
              "         [[0., 0., 0.],\n",
              "          [0., 0., 0.],\n",
              "          [0., 0., 0.],\n",
              "          ...,\n",
              "          [0., 0., 0.],\n",
              "          [0., 0., 0.],\n",
              "          [0., 0., 0.]]]), torch.float32)"
            ]
          },
          "metadata": {},
          "execution_count": 35
        }
      ]
    },
    {
      "cell_type": "code",
      "source": [
        "ones = torch.ones(size = (224,224,3))\n",
        "ones, ones.dtype"
      ],
      "metadata": {
        "colab": {
          "base_uri": "https://localhost:8080/"
        },
        "id": "72TefvaoOKdT",
        "outputId": "81beccc1-28aa-4fd6-d3db-02cb6f5a3214"
      },
      "execution_count": 36,
      "outputs": [
        {
          "output_type": "execute_result",
          "data": {
            "text/plain": [
              "(tensor([[[1., 1., 1.],\n",
              "          [1., 1., 1.],\n",
              "          [1., 1., 1.],\n",
              "          ...,\n",
              "          [1., 1., 1.],\n",
              "          [1., 1., 1.],\n",
              "          [1., 1., 1.]],\n",
              " \n",
              "         [[1., 1., 1.],\n",
              "          [1., 1., 1.],\n",
              "          [1., 1., 1.],\n",
              "          ...,\n",
              "          [1., 1., 1.],\n",
              "          [1., 1., 1.],\n",
              "          [1., 1., 1.]],\n",
              " \n",
              "         [[1., 1., 1.],\n",
              "          [1., 1., 1.],\n",
              "          [1., 1., 1.],\n",
              "          ...,\n",
              "          [1., 1., 1.],\n",
              "          [1., 1., 1.],\n",
              "          [1., 1., 1.]],\n",
              " \n",
              "         ...,\n",
              " \n",
              "         [[1., 1., 1.],\n",
              "          [1., 1., 1.],\n",
              "          [1., 1., 1.],\n",
              "          ...,\n",
              "          [1., 1., 1.],\n",
              "          [1., 1., 1.],\n",
              "          [1., 1., 1.]],\n",
              " \n",
              "         [[1., 1., 1.],\n",
              "          [1., 1., 1.],\n",
              "          [1., 1., 1.],\n",
              "          ...,\n",
              "          [1., 1., 1.],\n",
              "          [1., 1., 1.],\n",
              "          [1., 1., 1.]],\n",
              " \n",
              "         [[1., 1., 1.],\n",
              "          [1., 1., 1.],\n",
              "          [1., 1., 1.],\n",
              "          ...,\n",
              "          [1., 1., 1.],\n",
              "          [1., 1., 1.],\n",
              "          [1., 1., 1.]]]), torch.float32)"
            ]
          },
          "metadata": {},
          "execution_count": 36
        }
      ]
    },
    {
      "cell_type": "code",
      "source": [
        "zero_to_ten = torch.arange(start = 0,end = 10,step = 1)\n",
        "zero_to_ten"
      ],
      "metadata": {
        "colab": {
          "base_uri": "https://localhost:8080/"
        },
        "id": "aDintz95Obn8",
        "outputId": "56a06b99-0914-4801-b959-eab331a9322c"
      },
      "execution_count": 37,
      "outputs": [
        {
          "output_type": "execute_result",
          "data": {
            "text/plain": [
              "tensor([0, 1, 2, 3, 4, 5, 6, 7, 8, 9])"
            ]
          },
          "metadata": {},
          "execution_count": 37
        }
      ]
    },
    {
      "cell_type": "code",
      "source": [
        "ten_zeros_like = torch.zeros_like(input = zero_to_ten)\n",
        "ten_zeros_like"
      ],
      "metadata": {
        "colab": {
          "base_uri": "https://localhost:8080/"
        },
        "id": "0ljRQ4KAPVAx",
        "outputId": "9c0815f0-1199-452e-d50c-c04b87807089"
      },
      "execution_count": 38,
      "outputs": [
        {
          "output_type": "execute_result",
          "data": {
            "text/plain": [
              "tensor([0, 0, 0, 0, 0, 0, 0, 0, 0, 0])"
            ]
          },
          "metadata": {},
          "execution_count": 38
        }
      ]
    },
    {
      "cell_type": "code",
      "source": [
        "float_32_tensor = torch.tensor([3.0,6.0,9.0],device=None,dtype=None,requires_grad=False)\n",
        "float_32_tensor , float_32_tensor.dtype, float_32_tensor.device"
      ],
      "metadata": {
        "colab": {
          "base_uri": "https://localhost:8080/"
        },
        "id": "NMZEQLgcjDou",
        "outputId": "318ac88b-3a8b-4b24-95ac-33c68a0f09fb"
      },
      "execution_count": 39,
      "outputs": [
        {
          "output_type": "execute_result",
          "data": {
            "text/plain": [
              "(tensor([3., 6., 9.]), torch.float32, device(type='cpu'))"
            ]
          },
          "metadata": {},
          "execution_count": 39
        }
      ]
    },
    {
      "cell_type": "code",
      "source": [
        "float_16_tensor = torch.tensor([3.0,6.,9.0],dtype = torch.float16)\n",
        "float_16_tensor, float_16_tensor.dtype"
      ],
      "metadata": {
        "colab": {
          "base_uri": "https://localhost:8080/"
        },
        "id": "HTl9Eihhjzoo",
        "outputId": "1affb177-eaa2-4809-ec6a-df9d0fe234dc"
      },
      "execution_count": 40,
      "outputs": [
        {
          "output_type": "execute_result",
          "data": {
            "text/plain": [
              "(tensor([3., 6., 9.], dtype=torch.float16), torch.float16)"
            ]
          },
          "metadata": {},
          "execution_count": 40
        }
      ]
    },
    {
      "cell_type": "code",
      "source": [
        "some_tensor = torch.rand(size = (3,4))\n",
        "\n",
        "print(some_tensor)\n",
        "print(f\"The device type of the tensor is {some_tensor.device}\")\n",
        "print(f\"The dtype of the tensor is {some_tensor.dtype}\")\n",
        "print(f\"The shape of the tensor is {some_tensor.shape}\")"
      ],
      "metadata": {
        "colab": {
          "base_uri": "https://localhost:8080/"
        },
        "id": "9HLrlt5Skqxk",
        "outputId": "4d4b44f2-e201-4ae7-bdb7-6cbd24aa5655"
      },
      "execution_count": 41,
      "outputs": [
        {
          "output_type": "stream",
          "name": "stdout",
          "text": [
            "tensor([[0.1262, 0.1819, 0.1269, 0.6382],\n",
            "        [0.7368, 0.6414, 0.4999, 0.0719],\n",
            "        [0.2859, 0.5750, 0.0540, 0.7716]])\n",
            "The device type of the tensor is cpu\n",
            "The dtype of the tensor is torch.float32\n",
            "The shape of the tensor is torch.Size([3, 4])\n"
          ]
        }
      ]
    },
    {
      "cell_type": "code",
      "source": [
        "tensor = torch.tensor([2.0,7.0,1.0])\n",
        "tensor"
      ],
      "metadata": {
        "colab": {
          "base_uri": "https://localhost:8080/"
        },
        "id": "ClGkay9ylOS3",
        "outputId": "e28958a2-c336-4be9-c6dc-28641203b9f7"
      },
      "execution_count": 42,
      "outputs": [
        {
          "output_type": "execute_result",
          "data": {
            "text/plain": [
              "tensor([2., 7., 1.])"
            ]
          },
          "metadata": {},
          "execution_count": 42
        }
      ]
    },
    {
      "cell_type": "code",
      "source": [
        "tensor+1"
      ],
      "metadata": {
        "colab": {
          "base_uri": "https://localhost:8080/"
        },
        "id": "1E2Vl8CYlXSj",
        "outputId": "c4da2c38-b775-4fa4-ef4e-20d25b9927a4"
      },
      "execution_count": 43,
      "outputs": [
        {
          "output_type": "execute_result",
          "data": {
            "text/plain": [
              "tensor([3., 8., 2.])"
            ]
          },
          "metadata": {},
          "execution_count": 43
        }
      ]
    },
    {
      "cell_type": "code",
      "source": [
        "tensor*10"
      ],
      "metadata": {
        "colab": {
          "base_uri": "https://localhost:8080/"
        },
        "id": "c07_SADvlZ2V",
        "outputId": "ee525475-d741-4a92-d382-798f465959b6"
      },
      "execution_count": 44,
      "outputs": [
        {
          "output_type": "execute_result",
          "data": {
            "text/plain": [
              "tensor([20., 70., 10.])"
            ]
          },
          "metadata": {},
          "execution_count": 44
        }
      ]
    },
    {
      "cell_type": "code",
      "source": [
        "tensor/5"
      ],
      "metadata": {
        "colab": {
          "base_uri": "https://localhost:8080/"
        },
        "id": "QplFjYv_lcd9",
        "outputId": "6d092d62-d2d7-4a55-ae24-d472ff9c3c99"
      },
      "execution_count": 45,
      "outputs": [
        {
          "output_type": "execute_result",
          "data": {
            "text/plain": [
              "tensor([0.4000, 1.4000, 0.2000])"
            ]
          },
          "metadata": {},
          "execution_count": 45
        }
      ]
    },
    {
      "cell_type": "code",
      "source": [
        "torch.multiply(tensor,50)"
      ],
      "metadata": {
        "colab": {
          "base_uri": "https://localhost:8080/"
        },
        "id": "oNEAIcaylmSO",
        "outputId": "794a679d-151e-4838-d316-7178448cab57"
      },
      "execution_count": 46,
      "outputs": [
        {
          "output_type": "execute_result",
          "data": {
            "text/plain": [
              "tensor([100., 350.,  50.])"
            ]
          },
          "metadata": {},
          "execution_count": 46
        }
      ]
    },
    {
      "cell_type": "code",
      "source": [
        "torch.add(tensor,4)"
      ],
      "metadata": {
        "colab": {
          "base_uri": "https://localhost:8080/"
        },
        "id": "heyMiwvRlqnF",
        "outputId": "628f5167-1d73-4bdd-d37c-1e9ce5405ea8"
      },
      "execution_count": 47,
      "outputs": [
        {
          "output_type": "execute_result",
          "data": {
            "text/plain": [
              "tensor([ 6., 11.,  5.])"
            ]
          },
          "metadata": {},
          "execution_count": 47
        }
      ]
    },
    {
      "cell_type": "code",
      "source": [
        "print(f\"{tensor}*{tensor}\")\n",
        "print(torch.mul(tensor,tensor))"
      ],
      "metadata": {
        "colab": {
          "base_uri": "https://localhost:8080/"
        },
        "id": "l20GS7b2l3H9",
        "outputId": "6330537d-deb5-40f1-b6fb-66c294662d2c"
      },
      "execution_count": 48,
      "outputs": [
        {
          "output_type": "stream",
          "name": "stdout",
          "text": [
            "tensor([2., 7., 1.])*tensor([2., 7., 1.])\n",
            "tensor([ 4., 49.,  1.])\n"
          ]
        }
      ]
    },
    {
      "cell_type": "code",
      "source": [
        "tensor = torch.tensor([1,2,3])\n",
        "tensor"
      ],
      "metadata": {
        "colab": {
          "base_uri": "https://localhost:8080/"
        },
        "id": "J0FyEB7CnN_d",
        "outputId": "5f78569d-847e-4eef-99bc-0ee538c1d406"
      },
      "execution_count": 49,
      "outputs": [
        {
          "output_type": "execute_result",
          "data": {
            "text/plain": [
              "tensor([1, 2, 3])"
            ]
          },
          "metadata": {},
          "execution_count": 49
        }
      ]
    },
    {
      "cell_type": "code",
      "source": [
        "torch.matmul(tensor,tensor)"
      ],
      "metadata": {
        "colab": {
          "base_uri": "https://localhost:8080/"
        },
        "id": "Ldrx-EIAnUrL",
        "outputId": "aa2f2c1d-8144-4382-e61e-1f2702c6d41b"
      },
      "execution_count": 50,
      "outputs": [
        {
          "output_type": "execute_result",
          "data": {
            "text/plain": [
              "tensor(14)"
            ]
          },
          "metadata": {},
          "execution_count": 50
        }
      ]
    },
    {
      "cell_type": "code",
      "source": [
        "tensor_A = torch.tensor([[1,2],\n",
        "                         [2,3],\n",
        "                         [3,4]])"
      ],
      "metadata": {
        "id": "j9Qljv13n3R7"
      },
      "execution_count": 51,
      "outputs": []
    },
    {
      "cell_type": "code",
      "source": [
        "tensor_B = torch.tensor([[5,6],\n",
        "                         [7,2],\n",
        "                         [3,9]])"
      ],
      "metadata": {
        "id": "BjQkkHVLoDg1"
      },
      "execution_count": 52,
      "outputs": []
    },
    {
      "cell_type": "code",
      "source": [
        "#torch.matmul(tensor_A,tensor_B)"
      ],
      "metadata": {
        "id": "8HD_q-spoNUJ"
      },
      "execution_count": 53,
      "outputs": []
    },
    {
      "cell_type": "code",
      "source": [
        "tensor_A.T"
      ],
      "metadata": {
        "colab": {
          "base_uri": "https://localhost:8080/"
        },
        "id": "V8M-jvg9pSz0",
        "outputId": "2e44d002-507c-43b4-df93-420fc2b2bbbe"
      },
      "execution_count": 54,
      "outputs": [
        {
          "output_type": "execute_result",
          "data": {
            "text/plain": [
              "tensor([[1, 2, 3],\n",
              "        [2, 3, 4]])"
            ]
          },
          "metadata": {},
          "execution_count": 54
        }
      ]
    },
    {
      "cell_type": "code",
      "source": [
        "torch.matmul(tensor_A,tensor_B.T)"
      ],
      "metadata": {
        "colab": {
          "base_uri": "https://localhost:8080/"
        },
        "id": "4QHPJzU5pZWM",
        "outputId": "fbee6265-736e-4fd1-ecb8-ba5de48d0ca5"
      },
      "execution_count": 55,
      "outputs": [
        {
          "output_type": "execute_result",
          "data": {
            "text/plain": [
              "tensor([[17, 11, 21],\n",
              "        [28, 20, 33],\n",
              "        [39, 29, 45]])"
            ]
          },
          "metadata": {},
          "execution_count": 55
        }
      ]
    },
    {
      "cell_type": "code",
      "source": [
        "print(f\"The Original shape is {tensor_A.shape} and the transformed shape is {tensor_A.T.shape}\")"
      ],
      "metadata": {
        "colab": {
          "base_uri": "https://localhost:8080/"
        },
        "id": "5jfTJgpisJQu",
        "outputId": "967c94db-5e4c-40bb-91d6-68177eb95b32"
      },
      "execution_count": 56,
      "outputs": [
        {
          "output_type": "stream",
          "name": "stdout",
          "text": [
            "The Original shape is torch.Size([3, 2]) and the transformed shape is torch.Size([2, 3])\n"
          ]
        }
      ]
    },
    {
      "cell_type": "code",
      "source": [
        "torch.mm(tensor_A,tensor_A.T)"
      ],
      "metadata": {
        "colab": {
          "base_uri": "https://localhost:8080/"
        },
        "id": "WnufXegksrCN",
        "outputId": "98517126-e096-4fe9-96f1-69080d5a694d"
      },
      "execution_count": 57,
      "outputs": [
        {
          "output_type": "execute_result",
          "data": {
            "text/plain": [
              "tensor([[ 5,  8, 11],\n",
              "        [ 8, 13, 18],\n",
              "        [11, 18, 25]])"
            ]
          },
          "metadata": {},
          "execution_count": 57
        }
      ]
    },
    {
      "cell_type": "code",
      "source": [
        "torch.manual_seed(42)\n",
        "\n",
        "tensor_A = torch.tensor([[1, 2],\n",
        "                         [3, 4],\n",
        "                         [5, 6]], dtype=torch.float32)\n",
        "\n",
        "linear = torch.nn.Linear(\n",
        "    in_features = 2,\n",
        "    out_features = 6\n",
        ")\n",
        "\n",
        "x = tensor_A\n",
        "\n",
        "output = linear(x)\n",
        "\n",
        "print(x.shape, tensor_A.shape)\n",
        "\n",
        "print(output, output.shape)"
      ],
      "metadata": {
        "id": "XZ18KplItYEf",
        "colab": {
          "base_uri": "https://localhost:8080/"
        },
        "outputId": "68bf850c-41d5-4493-82ae-9bae41470d95"
      },
      "execution_count": 58,
      "outputs": [
        {
          "output_type": "stream",
          "name": "stdout",
          "text": [
            "torch.Size([3, 2]) torch.Size([3, 2])\n",
            "tensor([[2.2368, 1.2292, 0.4714, 0.3864, 0.1309, 0.9838],\n",
            "        [4.4919, 2.1970, 0.4469, 0.5285, 0.3401, 2.4777],\n",
            "        [6.7469, 3.1648, 0.4224, 0.6705, 0.5493, 3.9716]],\n",
            "       grad_fn=<AddmmBackward0>) torch.Size([3, 6])\n"
          ]
        }
      ]
    },
    {
      "cell_type": "code",
      "source": [
        "import torch\n",
        "x = torch.arange(0,100,10)\n",
        "x"
      ],
      "metadata": {
        "colab": {
          "base_uri": "https://localhost:8080/"
        },
        "id": "znG9wUYn8OXj",
        "outputId": "c25afea3-ebbd-4408-bb74-7e042b1243ea"
      },
      "execution_count": 59,
      "outputs": [
        {
          "output_type": "execute_result",
          "data": {
            "text/plain": [
              "tensor([ 0, 10, 20, 30, 40, 50, 60, 70, 80, 90])"
            ]
          },
          "metadata": {},
          "execution_count": 59
        }
      ]
    },
    {
      "cell_type": "code",
      "source": [
        "print(f\"Maximum {x.max()}\")\n",
        "print(f\"Minimum {x.min()}\")\n",
        "print(f\"Mean {x.type(torch.float32).mean()}\")\n",
        "print(f\"Sum {x.sum()}\")"
      ],
      "metadata": {
        "colab": {
          "base_uri": "https://localhost:8080/"
        },
        "id": "S9Vxkm2S95pF",
        "outputId": "1f148cf3-0d99-4395-9ebd-13aed6683cd9"
      },
      "execution_count": 60,
      "outputs": [
        {
          "output_type": "stream",
          "name": "stdout",
          "text": [
            "Maximum 90\n",
            "Minimum 0\n",
            "Mean 45.0\n",
            "Sum 450\n"
          ]
        }
      ]
    },
    {
      "cell_type": "code",
      "source": [
        "tensor_c = torch.arange(10,100,10)\n",
        "\n",
        "print(f\"tensor {tensor_c}\")\n",
        "\n",
        "print(f\"tensor argmax {tensor_c.argmax()}\")\n",
        "print(f\"tensor argmin {tensor_c.argmin()}\")"
      ],
      "metadata": {
        "colab": {
          "base_uri": "https://localhost:8080/"
        },
        "id": "A7Dd2bNk-1Eu",
        "outputId": "3bec8d04-0bb5-4d83-8eb8-dc134a4141e5"
      },
      "execution_count": 61,
      "outputs": [
        {
          "output_type": "stream",
          "name": "stdout",
          "text": [
            "tensor tensor([10, 20, 30, 40, 50, 60, 70, 80, 90])\n",
            "tensor argmax 8\n",
            "tensor argmin 0\n"
          ]
        }
      ]
    },
    {
      "cell_type": "code",
      "source": [
        "tensor_d = torch.arange(10.,100.,10.)\n",
        "tensor_d.dtype"
      ],
      "metadata": {
        "colab": {
          "base_uri": "https://localhost:8080/"
        },
        "id": "vnBQnghNA5pL",
        "outputId": "fc43a47f-4023-483f-d92d-121981ddc795"
      },
      "execution_count": 62,
      "outputs": [
        {
          "output_type": "execute_result",
          "data": {
            "text/plain": [
              "torch.float32"
            ]
          },
          "metadata": {},
          "execution_count": 62
        }
      ]
    },
    {
      "cell_type": "code",
      "source": [
        "tensor_f = torch.arange(1.,8.)\n",
        "tensor_f, tensor_f.shape"
      ],
      "metadata": {
        "colab": {
          "base_uri": "https://localhost:8080/"
        },
        "id": "oknPY03pByKH",
        "outputId": "c8e80567-ccd5-449b-b49e-d3dbd41e6cbe"
      },
      "execution_count": 63,
      "outputs": [
        {
          "output_type": "execute_result",
          "data": {
            "text/plain": [
              "(tensor([1., 2., 3., 4., 5., 6., 7.]), torch.Size([7]))"
            ]
          },
          "metadata": {},
          "execution_count": 63
        }
      ]
    },
    {
      "cell_type": "code",
      "source": [
        "tensor_f_reshaped = tensor_f.reshape(1,7)\n",
        "tensor_f_reshaped"
      ],
      "metadata": {
        "colab": {
          "base_uri": "https://localhost:8080/"
        },
        "id": "Bm0utBzaCBB-",
        "outputId": "c9e310b6-1e66-4d12-b4e1-2272807b4e3d"
      },
      "execution_count": 64,
      "outputs": [
        {
          "output_type": "execute_result",
          "data": {
            "text/plain": [
              "tensor([[1., 2., 3., 4., 5., 6., 7.]])"
            ]
          },
          "metadata": {},
          "execution_count": 64
        }
      ]
    },
    {
      "cell_type": "code",
      "source": [
        "z = tensor_f.view(1,7)\n",
        "z, z.shape"
      ],
      "metadata": {
        "colab": {
          "base_uri": "https://localhost:8080/"
        },
        "id": "aL32-ac7FEOP",
        "outputId": "8f59f649-2fd8-4b54-ec9a-75af7bc6fafa"
      },
      "execution_count": 65,
      "outputs": [
        {
          "output_type": "execute_result",
          "data": {
            "text/plain": [
              "(tensor([[1., 2., 3., 4., 5., 6., 7.]]), torch.Size([1, 7]))"
            ]
          },
          "metadata": {},
          "execution_count": 65
        }
      ]
    },
    {
      "cell_type": "code",
      "source": [
        "z[:,0] = 5\n",
        "z,x"
      ],
      "metadata": {
        "colab": {
          "base_uri": "https://localhost:8080/"
        },
        "id": "-kOwMj9YFOqK",
        "outputId": "ea13f480-1bb3-4bde-bbe3-5ab1457d3715"
      },
      "execution_count": 66,
      "outputs": [
        {
          "output_type": "execute_result",
          "data": {
            "text/plain": [
              "(tensor([[5., 2., 3., 4., 5., 6., 7.]]),\n",
              " tensor([ 0, 10, 20, 30, 40, 50, 60, 70, 80, 90]))"
            ]
          },
          "metadata": {},
          "execution_count": 66
        }
      ]
    },
    {
      "cell_type": "code",
      "source": [
        "f_stacked = torch.stack([tensor_f,tensor_f,tensor_f,tensor_f])\n",
        "f_stacked"
      ],
      "metadata": {
        "colab": {
          "base_uri": "https://localhost:8080/"
        },
        "id": "-X6p1XivFdd8",
        "outputId": "fa1b8af5-7025-46ef-8dbc-bec28252a04a"
      },
      "execution_count": 67,
      "outputs": [
        {
          "output_type": "execute_result",
          "data": {
            "text/plain": [
              "tensor([[5., 2., 3., 4., 5., 6., 7.],\n",
              "        [5., 2., 3., 4., 5., 6., 7.],\n",
              "        [5., 2., 3., 4., 5., 6., 7.],\n",
              "        [5., 2., 3., 4., 5., 6., 7.]])"
            ]
          },
          "metadata": {},
          "execution_count": 67
        }
      ]
    },
    {
      "cell_type": "code",
      "source": [
        "print(f\"f reshaped {tensor_f_reshaped}\")\n",
        "print(f\"F reshaped shape {tensor_f_reshaped.shape}\")"
      ],
      "metadata": {
        "colab": {
          "base_uri": "https://localhost:8080/"
        },
        "id": "zvrDjzS-GDnK",
        "outputId": "b0a7c1ef-6698-46a5-cda0-0339bf1b1ecc"
      },
      "execution_count": 68,
      "outputs": [
        {
          "output_type": "stream",
          "name": "stdout",
          "text": [
            "f reshaped tensor([[5., 2., 3., 4., 5., 6., 7.]])\n",
            "F reshaped shape torch.Size([1, 7])\n"
          ]
        }
      ]
    },
    {
      "cell_type": "code",
      "source": [
        "tensor_f_squeezed = tensor_f.squeeze()\n",
        "tensor_f_squeezed, tensor_f_squeezed.shape"
      ],
      "metadata": {
        "colab": {
          "base_uri": "https://localhost:8080/"
        },
        "id": "Oc7kiQpPGTC7",
        "outputId": "a086f5c5-2355-49e2-9dd6-715a7b1b8ce5"
      },
      "execution_count": 69,
      "outputs": [
        {
          "output_type": "execute_result",
          "data": {
            "text/plain": [
              "(tensor([5., 2., 3., 4., 5., 6., 7.]), torch.Size([7]))"
            ]
          },
          "metadata": {},
          "execution_count": 69
        }
      ]
    },
    {
      "cell_type": "code",
      "source": [
        "x_original = torch.rand(size=(224,224,3))\n",
        "x_permuted = x_original.permute(2,0,1)\n",
        "x_permuted , x_permuted.shape"
      ],
      "metadata": {
        "colab": {
          "base_uri": "https://localhost:8080/"
        },
        "id": "TcuhUa3qG6ba",
        "outputId": "30c42ed9-2129-4e19-cd25-ef6e11b82ff8"
      },
      "execution_count": 70,
      "outputs": [
        {
          "output_type": "execute_result",
          "data": {
            "text/plain": [
              "(tensor([[[0.2666, 0.4414, 0.1053,  ..., 0.5697, 0.3397, 0.3421],\n",
              "          [0.6576, 0.9902, 0.9008,  ..., 0.5322, 0.1844, 0.3568],\n",
              "          [0.0231, 0.0614, 0.9203,  ..., 0.4989, 0.6272, 0.8345],\n",
              "          ...,\n",
              "          [0.3599, 0.5387, 0.5521,  ..., 0.1790, 0.9871, 0.1551],\n",
              "          [0.7442, 0.6381, 0.6170,  ..., 0.3450, 0.9618, 0.6393],\n",
              "          [0.1369, 0.6237, 0.2424,  ..., 0.1167, 0.2933, 0.0992]],\n",
              " \n",
              "         [[0.6274, 0.2969, 0.2695,  ..., 0.2088, 0.9565, 0.0172],\n",
              "          [0.9813, 0.5978, 0.9180,  ..., 0.8510, 0.8533, 0.1704],\n",
              "          [0.6317, 0.1727, 0.9251,  ..., 0.0933, 0.5955, 0.2273],\n",
              "          ...,\n",
              "          [0.1989, 0.1378, 0.6004,  ..., 0.9954, 0.5877, 0.7881],\n",
              "          [0.8621, 0.0106, 0.3402,  ..., 0.6359, 0.7925, 0.7158],\n",
              "          [0.4302, 0.8480, 0.8264,  ..., 0.1133, 0.5889, 0.3078]],\n",
              " \n",
              "         [[0.2696, 0.8317, 0.3588,  ..., 0.6539, 0.0660, 0.3031],\n",
              "          [0.5840, 0.7888, 0.2201,  ..., 0.4556, 0.5698, 0.6172],\n",
              "          [0.7472, 0.1405, 0.5313,  ..., 0.3064, 0.8636, 0.2865],\n",
              "          ...,\n",
              "          [0.5711, 0.9763, 0.1658,  ..., 0.6617, 0.7375, 0.3759],\n",
              "          [0.7548, 0.0893, 0.8306,  ..., 0.8216, 0.2952, 0.6099],\n",
              "          [0.7265, 0.4580, 0.0015,  ..., 0.8600, 0.4117, 0.7786]]]),\n",
              " torch.Size([3, 224, 224]))"
            ]
          },
          "metadata": {},
          "execution_count": 70
        }
      ]
    },
    {
      "cell_type": "code",
      "source": [
        "tensor_g = torch.arange(1,10).reshape(1,3,3)\n",
        "tensor_g , tensor_g.shape"
      ],
      "metadata": {
        "colab": {
          "base_uri": "https://localhost:8080/"
        },
        "id": "BnV4NkaXH1dy",
        "outputId": "5c980ddb-4513-4266-a822-ccec624856b1"
      },
      "execution_count": 72,
      "outputs": [
        {
          "output_type": "execute_result",
          "data": {
            "text/plain": [
              "(tensor([[[1, 2, 3],\n",
              "          [4, 5, 6],\n",
              "          [7, 8, 9]]]), torch.Size([1, 3, 3]))"
            ]
          },
          "metadata": {},
          "execution_count": 72
        }
      ]
    },
    {
      "cell_type": "code",
      "source": [
        "tensor_g[:,0]"
      ],
      "metadata": {
        "colab": {
          "base_uri": "https://localhost:8080/"
        },
        "id": "Qsd2FiEXUOX5",
        "outputId": "90e694b9-b519-409e-cd95-40320cbbc449"
      },
      "execution_count": 73,
      "outputs": [
        {
          "output_type": "execute_result",
          "data": {
            "text/plain": [
              "tensor([[1, 2, 3]])"
            ]
          },
          "metadata": {},
          "execution_count": 73
        }
      ]
    },
    {
      "cell_type": "code",
      "source": [
        "tensor_g[:,:,0]"
      ],
      "metadata": {
        "colab": {
          "base_uri": "https://localhost:8080/"
        },
        "id": "n_ko7c8RUfzX",
        "outputId": "7cf9b4fe-b289-4b7b-95f1-8e3eff16f966"
      },
      "execution_count": 74,
      "outputs": [
        {
          "output_type": "execute_result",
          "data": {
            "text/plain": [
              "tensor([[1, 4, 7]])"
            ]
          },
          "metadata": {},
          "execution_count": 74
        }
      ]
    },
    {
      "cell_type": "code",
      "source": [
        "tensor_g[:,:,1]"
      ],
      "metadata": {
        "colab": {
          "base_uri": "https://localhost:8080/"
        },
        "id": "qKFMW0FRU0h8",
        "outputId": "8e5c6efd-7706-43dc-db3b-814502d80fa4"
      },
      "execution_count": 75,
      "outputs": [
        {
          "output_type": "execute_result",
          "data": {
            "text/plain": [
              "tensor([[2, 5, 8]])"
            ]
          },
          "metadata": {},
          "execution_count": 75
        }
      ]
    },
    {
      "cell_type": "code",
      "source": [
        "tensor_g[:,1,1]"
      ],
      "metadata": {
        "colab": {
          "base_uri": "https://localhost:8080/"
        },
        "id": "SgDQeJpeVHMC",
        "outputId": "32de3377-7a12-4e43-d883-43a9c0099747"
      },
      "execution_count": 77,
      "outputs": [
        {
          "output_type": "execute_result",
          "data": {
            "text/plain": [
              "tensor([5])"
            ]
          },
          "metadata": {},
          "execution_count": 77
        }
      ]
    },
    {
      "cell_type": "code",
      "source": [
        "import numpy as np\n",
        "array = np.arange(1,8)\n",
        "tensor_h = torch.from_numpy(array)\n",
        "array, tensor_h"
      ],
      "metadata": {
        "colab": {
          "base_uri": "https://localhost:8080/"
        },
        "id": "vXg6a8zoVhxd",
        "outputId": "58a4aa62-411c-4b90-9509-68dd73b0b869"
      },
      "execution_count": 81,
      "outputs": [
        {
          "output_type": "execute_result",
          "data": {
            "text/plain": [
              "(array([1, 2, 3, 4, 5, 6, 7]), tensor([1, 2, 3, 4, 5, 6, 7]))"
            ]
          },
          "metadata": {},
          "execution_count": 81
        }
      ]
    },
    {
      "cell_type": "code",
      "source": [
        "import torch\n",
        "import random\n",
        "\n",
        "RANDOM_SEED = 42\n",
        "\n",
        "torch.manual_seed(seed = RANDOM_SEED)\n",
        "random_tensor_C = torch.rand(3,4)\n",
        "random_tensor_D = torch.rand(3,4)\n",
        "\n",
        "random_tensor_C == random_tensor_D"
      ],
      "metadata": {
        "colab": {
          "base_uri": "https://localhost:8080/"
        },
        "id": "TglRmGxoY_dt",
        "outputId": "c0b4759e-c39f-48c0-cdf3-f1113579b412"
      },
      "execution_count": 83,
      "outputs": [
        {
          "output_type": "execute_result",
          "data": {
            "text/plain": [
              "tensor([[False, False, False, False],\n",
              "        [False, False, False, False],\n",
              "        [False, False, False, False]])"
            ]
          },
          "metadata": {},
          "execution_count": 83
        }
      ]
    },
    {
      "cell_type": "markdown",
      "source": [
        "Next part is the use of cuda cores or GPUs for machine learning"
      ],
      "metadata": {
        "id": "rO4qr4pZb0EM"
      }
    }
  ]
}